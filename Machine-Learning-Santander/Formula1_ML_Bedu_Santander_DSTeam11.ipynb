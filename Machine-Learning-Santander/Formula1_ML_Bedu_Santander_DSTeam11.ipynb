{
  "nbformat": 4,
  "nbformat_minor": 0,
  "metadata": {
    "colab": {
      "name": "Formula1_ML_Bedu_Santander_DSTeam11.ipynb",
      "provenance": [],
      "toc_visible": true,
      "authorship_tag": "ABX9TyOopSdtqIw4T7tozmdEcxYE",
      "include_colab_link": true
    },
    "kernelspec": {
      "name": "python3",
      "display_name": "Python 3"
    },
    "language_info": {
      "name": "python"
    }
  },
  "cells": [
    {
      "cell_type": "markdown",
      "metadata": {
        "id": "view-in-github",
        "colab_type": "text"
      },
      "source": [
        "<a href=\"https://colab.research.google.com/github/AreYouRuben/DS_Team24/blob/main/Machine-Learning-Santander/Formula1_ML_Bedu_Santander_DSTeam11.ipynb\" target=\"_parent\"><img src=\"https://colab.research.google.com/assets/colab-badge.svg\" alt=\"Open In Colab\"/></a>"
      ]
    },
    {
      "cell_type": "markdown",
      "metadata": {
        "id": "z6fNcJrhWq_O"
      },
      "source": [
        "# Fórmula 1: Un Acercamiento a Modelos Predictivos y de Agrupamiento\n",
        "\n",
        "En este notebook se encuentran diversos problemas presentados en la Fórmula 1 atacados de distintas maneras con el uso de análisis de datos.\n",
        "\n",
        " - Manuel García Garduño\n",
        "  - Luis Rubén Chávez Carrillo\n",
        "  - Raúl González Cruz\n",
        "  - Daniel Butron Otero\n",
        "\n",
        "### Problemas de clasificación\n",
        "- Problema: Predicir la posición final del conductor.\n",
        "    - Algoritmos: Árboles de desición, bosques aleatorios, bagging y XGBoost.\n",
        "- Problema: Clasificar si el conductor llega a podio o no. \n",
        "    - Algoritmos: Random Forest y Naive Bayes\n",
        "\n",
        "### Problemas de regresión\n",
        "- Problema: Predecir la posición final del conductor.\n",
        "    - Algoritmos: Regresión polinomial.\n",
        "\n",
        "### Problemas de agrupamiento\n",
        "- Problema: Agrupar los circuitos en nivel de entretenimiento\n",
        "    - Algoritmos: K-means\n",
        "\n",
        "### Problemas de optimización\n",
        "- Problema: Encontrar la ruta más corta de recorrer todos los circuitos en una temporada\n",
        "    - Algoritmos: Algoritmo genético.\n"
      ]
    },
    {
      "cell_type": "markdown",
      "metadata": {
        "id": "lasTqSLgaLGR"
      },
      "source": [
        "## Importación de datos\n",
        "Antes de comenzar el análisis de nuestros datos vamos a importar las bases de datos que serán utilizadas en el proyecto."
      ]
    },
    {
      "cell_type": "code",
      "metadata": {
        "id": "ydD3RbI6eJ_R"
      },
      "source": [
        "import pandas as pd\n",
        "import numpy as np\n",
        "from scipy import stats\n",
        "from sklearn.cluster import KMeans\n",
        "from matplotlib import pyplot as plt\n",
        "import seaborn as sns\n",
        "from sklearn.model_selection import train_test_split\n",
        "from sklearn import tree as treeClassifier\n",
        "from sklearn.ensemble import RandomForestClassifier as forest\n",
        "from sklearn.linear_model import LinearRegression"
      ],
      "execution_count": 1,
      "outputs": []
    },
    {
      "cell_type": "code",
      "metadata": {
        "id": "SMwjYr5PzXIQ"
      },
      "source": [
        "path ='https://raw.githubusercontent.com/AreYouRuben/DS_Team24/main/Analisis_Datos_Python_Santander/f1_dataset/'\n",
        "filenames = [\"circuits\",\n",
        "             \"constructor_results\",\"constructor_standings\",\n",
        "            \"constructors\",\n",
        "             \"driver_standings\",\n",
        "             \"drivers\",\"lap_times\",\n",
        "             \"pit_stops\",\n",
        "             \"qualifying\",\n",
        "             \"races\",\n",
        "             \"results\"\n",
        "             ,\"seasons\",\n",
        "             \"status\"]\n",
        "\n",
        "dfs = []\n",
        "for filename in filenames:\n",
        "  complete_path = path + filename + \".csv\"\n",
        "  #print(complete_path)\n",
        "  df = pd.read_csv(complete_path, encoding=\"latin1\")\n",
        "  dfs.append(df)\n",
        "\n",
        "df_dictionary = {}\n",
        "for filename in filenames:\n",
        "  complete_path = path + filename + \".csv\"\n",
        "  df_dictionary[filename] = pd.read_csv(complete_path, encoding=\"latin1\")"
      ],
      "execution_count": 2,
      "outputs": []
    },
    {
      "cell_type": "code",
      "metadata": {
        "id": "RE3JfLMeYkCh",
        "colab": {
          "base_uri": "https://localhost:8080/",
          "height": 419
        },
        "outputId": "235ad43d-b6eb-4823-f7d4-649773b4ad0f"
      },
      "source": [
        "df = pd.read_csv('https://raw.githubusercontent.com/AreYouRuben/DS_Team24/main/Machine-Learning-Santander/is_Podium/is_Podium.csv')\n",
        "df"
      ],
      "execution_count": 3,
      "outputs": [
        {
          "output_type": "execute_result",
          "data": {
            "text/html": [
              "<div>\n",
              "<style scoped>\n",
              "    .dataframe tbody tr th:only-of-type {\n",
              "        vertical-align: middle;\n",
              "    }\n",
              "\n",
              "    .dataframe tbody tr th {\n",
              "        vertical-align: top;\n",
              "    }\n",
              "\n",
              "    .dataframe thead th {\n",
              "        text-align: right;\n",
              "    }\n",
              "</style>\n",
              "<table border=\"1\" class=\"dataframe\">\n",
              "  <thead>\n",
              "    <tr style=\"text-align: right;\">\n",
              "      <th></th>\n",
              "      <th>raceId</th>\n",
              "      <th>driverId</th>\n",
              "      <th>stop</th>\n",
              "      <th>lap</th>\n",
              "      <th>constructorId</th>\n",
              "      <th>grid</th>\n",
              "      <th>laps</th>\n",
              "      <th>position</th>\n",
              "      <th>circuitId</th>\n",
              "      <th>podium</th>\n",
              "    </tr>\n",
              "  </thead>\n",
              "  <tbody>\n",
              "    <tr>\n",
              "      <th>0</th>\n",
              "      <td>841</td>\n",
              "      <td>1</td>\n",
              "      <td>2</td>\n",
              "      <td>36</td>\n",
              "      <td>1</td>\n",
              "      <td>2</td>\n",
              "      <td>58</td>\n",
              "      <td>2</td>\n",
              "      <td>1</td>\n",
              "      <td>1</td>\n",
              "    </tr>\n",
              "    <tr>\n",
              "      <th>1</th>\n",
              "      <td>841</td>\n",
              "      <td>2</td>\n",
              "      <td>2</td>\n",
              "      <td>30</td>\n",
              "      <td>4</td>\n",
              "      <td>18</td>\n",
              "      <td>57</td>\n",
              "      <td>12</td>\n",
              "      <td>1</td>\n",
              "      <td>0</td>\n",
              "    </tr>\n",
              "    <tr>\n",
              "      <th>2</th>\n",
              "      <td>841</td>\n",
              "      <td>4</td>\n",
              "      <td>3</td>\n",
              "      <td>42</td>\n",
              "      <td>6</td>\n",
              "      <td>5</td>\n",
              "      <td>58</td>\n",
              "      <td>4</td>\n",
              "      <td>1</td>\n",
              "      <td>0</td>\n",
              "    </tr>\n",
              "    <tr>\n",
              "      <th>3</th>\n",
              "      <td>841</td>\n",
              "      <td>13</td>\n",
              "      <td>3</td>\n",
              "      <td>48</td>\n",
              "      <td>6</td>\n",
              "      <td>8</td>\n",
              "      <td>58</td>\n",
              "      <td>7</td>\n",
              "      <td>1</td>\n",
              "      <td>0</td>\n",
              "    </tr>\n",
              "    <tr>\n",
              "      <th>4</th>\n",
              "      <td>841</td>\n",
              "      <td>15</td>\n",
              "      <td>2</td>\n",
              "      <td>37</td>\n",
              "      <td>205</td>\n",
              "      <td>20</td>\n",
              "      <td>56</td>\n",
              "      <td>13</td>\n",
              "      <td>1</td>\n",
              "      <td>0</td>\n",
              "    </tr>\n",
              "    <tr>\n",
              "      <th>...</th>\n",
              "      <td>...</td>\n",
              "      <td>...</td>\n",
              "      <td>...</td>\n",
              "      <td>...</td>\n",
              "      <td>...</td>\n",
              "      <td>...</td>\n",
              "      <td>...</td>\n",
              "      <td>...</td>\n",
              "      <td>...</td>\n",
              "      <td>...</td>\n",
              "    </tr>\n",
              "    <tr>\n",
              "      <th>3516</th>\n",
              "      <td>1054</td>\n",
              "      <td>847</td>\n",
              "      <td>3</td>\n",
              "      <td>28</td>\n",
              "      <td>3</td>\n",
              "      <td>11</td>\n",
              "      <td>65</td>\n",
              "      <td>16</td>\n",
              "      <td>75</td>\n",
              "      <td>0</td>\n",
              "    </tr>\n",
              "    <tr>\n",
              "      <th>3517</th>\n",
              "      <td>1054</td>\n",
              "      <td>849</td>\n",
              "      <td>3</td>\n",
              "      <td>24</td>\n",
              "      <td>3</td>\n",
              "      <td>18</td>\n",
              "      <td>64</td>\n",
              "      <td>18</td>\n",
              "      <td>75</td>\n",
              "      <td>0</td>\n",
              "    </tr>\n",
              "    <tr>\n",
              "      <th>3518</th>\n",
              "      <td>1054</td>\n",
              "      <td>852</td>\n",
              "      <td>3</td>\n",
              "      <td>21</td>\n",
              "      <td>213</td>\n",
              "      <td>14</td>\n",
              "      <td>65</td>\n",
              "      <td>15</td>\n",
              "      <td>75</td>\n",
              "      <td>0</td>\n",
              "    </tr>\n",
              "    <tr>\n",
              "      <th>3519</th>\n",
              "      <td>1054</td>\n",
              "      <td>853</td>\n",
              "      <td>4</td>\n",
              "      <td>43</td>\n",
              "      <td>210</td>\n",
              "      <td>20</td>\n",
              "      <td>64</td>\n",
              "      <td>19</td>\n",
              "      <td>75</td>\n",
              "      <td>0</td>\n",
              "    </tr>\n",
              "    <tr>\n",
              "      <th>3520</th>\n",
              "      <td>1054</td>\n",
              "      <td>854</td>\n",
              "      <td>3</td>\n",
              "      <td>32</td>\n",
              "      <td>210</td>\n",
              "      <td>19</td>\n",
              "      <td>64</td>\n",
              "      <td>17</td>\n",
              "      <td>75</td>\n",
              "      <td>0</td>\n",
              "    </tr>\n",
              "  </tbody>\n",
              "</table>\n",
              "<p>3521 rows × 10 columns</p>\n",
              "</div>"
            ],
            "text/plain": [
              "      raceId  driverId  stop  lap  ...  laps  position  circuitId  podium\n",
              "0        841         1     2   36  ...    58         2          1       1\n",
              "1        841         2     2   30  ...    57        12          1       0\n",
              "2        841         4     3   42  ...    58         4          1       0\n",
              "3        841        13     3   48  ...    58         7          1       0\n",
              "4        841        15     2   37  ...    56        13          1       0\n",
              "...      ...       ...   ...  ...  ...   ...       ...        ...     ...\n",
              "3516    1054       847     3   28  ...    65        16         75       0\n",
              "3517    1054       849     3   24  ...    64        18         75       0\n",
              "3518    1054       852     3   21  ...    65        15         75       0\n",
              "3519    1054       853     4   43  ...    64        19         75       0\n",
              "3520    1054       854     3   32  ...    64        17         75       0\n",
              "\n",
              "[3521 rows x 10 columns]"
            ]
          },
          "metadata": {
            "tags": []
          },
          "execution_count": 3
        }
      ]
    },
    {
      "cell_type": "markdown",
      "metadata": {
        "id": "8gylrnvEXW_P"
      },
      "source": [
        "## Problemas de Clasificación"
      ]
    },
    {
      "cell_type": "markdown",
      "metadata": {
        "id": "TeuE_YoQXgMm"
      },
      "source": [
        "### Conductor llega al podio\n",
        "\n",
        "La Fórmula 1 puede es el deporte de motor más popular del mundo. Sin embargo, es algo predecible. Por otro lado, factores como el conductor, el equipo, la posición inicial o la estrategia de paradas en pits pueden modificar los resultados totalmente de una carrera. \n",
        "\n",
        "Por ello, se decide atacar este problema con un dataset previamente limpio y aplicándole algoritmos clasiicadores para predecir si el conductor va a lograr un posicionamiento final dentro del podio.\n",
        "\n",
        "- Problema: Clasificar si el conductor llega a podio o no. \n",
        "    - Algoritmos: Random Forest y Naive Bayes"
      ]
    },
    {
      "cell_type": "code",
      "metadata": {
        "colab": {
          "base_uri": "https://localhost:8080/",
          "height": 265
        },
        "id": "47B2GgQ1XlD7",
        "outputId": "3baa0e5d-c159-4fa4-f470-377c068b4ed5"
      },
      "source": [
        "x = df[['circuitId','driverId','stop','lap','constructorId','grid','laps']]\n",
        "y = df['podium']\n",
        "plt.scatter(x['stop'],x['lap'],c=y)\n",
        "plt.show()\n",
        "\n",
        "x_train, x_test, y_train, y_test = train_test_split(x,y,test_size=0.25, stratify=y, random_state=12)"
      ],
      "execution_count": 4,
      "outputs": [
        {
          "output_type": "display_data",
          "data": {
            "image/png": "[encoded data removed]",
            "text/plain": [
              "<Figure size 432x288 with 1 Axes>"
            ]
          },
          "metadata": {
            "tags": [],
            "needs_background": "light"
          }
        }
      ]
    },
    {
      "cell_type": "markdown",
      "metadata": {
        "id": "XQd-7sV_Yyj2"
      },
      "source": [
        "#### Clasificadores: Random Forest"
      ]
    },
    {
      "cell_type": "code",
      "metadata": {
        "colab": {
          "base_uri": "https://localhost:8080/"
        },
        "id": "1I68LjLHuAXe",
        "outputId": "77d0f3b5-62e3-40bb-abca-557f43be54ef"
      },
      "source": [
        "bosque = forest(n_estimators = 800, random_state = 12)\n",
        "bosque.fit(x_train, y_train)"
      ],
      "execution_count": 5,
      "outputs": [
        {
          "output_type": "execute_result",
          "data": {
            "text/plain": [
              "RandomForestClassifier(bootstrap=True, ccp_alpha=0.0, class_weight=None,\n",
              "                       criterion='gini', max_depth=None, max_features='auto',\n",
              "                       max_leaf_nodes=None, max_samples=None,\n",
              "                       min_impurity_decrease=0.0, min_impurity_split=None,\n",
              "                       min_samples_leaf=1, min_samples_split=2,\n",
              "                       min_weight_fraction_leaf=0.0, n_estimators=800,\n",
              "                       n_jobs=None, oob_score=False, random_state=12, verbose=0,\n",
              "                       warm_start=False)"
            ]
          },
          "metadata": {
            "tags": []
          },
          "execution_count": 5
        }
      ]
    },
    {
      "cell_type": "code",
      "metadata": {
        "id": "1NRO10VeuJTm"
      },
      "source": [
        "y_pred = bosque.predict(x_test)"
      ],
      "execution_count": 6,
      "outputs": []
    },
    {
      "cell_type": "code",
      "metadata": {
        "colab": {
          "base_uri": "https://localhost:8080/"
        },
        "id": "GmkDEitFih8R",
        "outputId": "154d6469-6fb6-4fee-a6d6-edbf2dc45a7a"
      },
      "source": [
        "from sklearn.metrics import accuracy_score, confusion_matrix\n",
        "resultado = confusion_matrix(y_test, y_pred)\n",
        "print(resultado)\n",
        "a = accuracy_score(y_test, y_pred)\n",
        "a"
      ],
      "execution_count": 7,
      "outputs": [
        {
          "output_type": "stream",
          "text": [
            "[[693  39]\n",
            " [ 46 103]]\n"
          ],
          "name": "stdout"
        },
        {
          "output_type": "execute_result",
          "data": {
            "text/plain": [
              "0.9035187287173666"
            ]
          },
          "metadata": {
            "tags": []
          },
          "execution_count": 7
        }
      ]
    },
    {
      "cell_type": "code",
      "metadata": {
        "colab": {
          "base_uri": "https://localhost:8080/"
        },
        "id": "UO_8JFIXXUwZ",
        "outputId": "53c85ff7-c6e1-49b1-ea21-709c9a246ee4"
      },
      "source": [
        "from sklearn.metrics import confusion_matrix\n",
        "\n",
        "##### Solo puedo calcular accuracy con multiclase\n",
        "\n",
        "def calcularAccuracy(TP, TN, FP, FN):\n",
        "    accuracy = (TP + TN) / (TP + TN + FP + FN)\n",
        "    accuracy = accuracy * 100\n",
        "    return accuracy\n",
        "def calcularSensibilidad(TP, TN, FP, FN):\n",
        "    sensibilidad = TP / (TP + FN)\n",
        "    sensibilidad = sensibilidad * 100\n",
        "    return sensibilidad\n",
        "def calcularEspecificidad(TP, TN, FP, FN):\n",
        "    especificidad = TN / (TN + FP)\n",
        "    especificidad = especificidad * 100\n",
        "    return especificidad\n",
        "\n",
        "resultado = confusion_matrix(y_test, y_pred)\n",
        "print(resultado)\n",
        "TN, FP, FN, TP = resultado.ravel()\n",
        "print(\"True positives: \"+str(TP))\n",
        "print(\"True negatives: \"+str(TN))\n",
        "print(\"False positives: \"+str(FP))\n",
        "print(\"False negative: \"+str(FN))\n",
        "\n",
        "acc = calcularAccuracy(TP, TN, FP, FN)\n",
        "sen = calcularSensibilidad(TP, TN, FP, FN)\n",
        "spec = calcularEspecificidad(TP, TN, FP, FN)\n",
        "print(\"Precision:\"+str(acc)+\"%\")\n",
        "print(\"Sensibilidad:\"+str(sen)+\"%\")\n",
        "print(\"Especificidad:\"+str(spec)+\"%\")\n",
        "\n",
        "## En un ejemplo de negativos para productos que no pasan pruebas de calidad\n",
        "# usaría arbol de decisión puesto que tiene la especificidad más alta de\n",
        "# los 4 clasificadores"
      ],
      "execution_count": 8,
      "outputs": [
        {
          "output_type": "stream",
          "text": [
            "[[693  39]\n",
            " [ 46 103]]\n",
            "True positives: 103\n",
            "True negatives: 693\n",
            "False positives: 39\n",
            "False negative: 46\n",
            "Precision:90.35187287173666%\n",
            "Sensibilidad:69.12751677852349%\n",
            "Especificidad:94.67213114754098%\n"
          ],
          "name": "stdout"
        }
      ]
    },
    {
      "cell_type": "markdown",
      "metadata": {
        "id": "UZW7KYhuY4Z1"
      },
      "source": [
        "#### Clasificadores: Naive Bayes"
      ]
    },
    {
      "cell_type": "code",
      "metadata": {
        "id": "TkSYRCakoHRO"
      },
      "source": [
        "from sklearn.naive_bayes import GaussianNB"
      ],
      "execution_count": 9,
      "outputs": []
    },
    {
      "cell_type": "code",
      "metadata": {
        "id": "2V-foWBAoMuI"
      },
      "source": [
        "NaiveBayes = GaussianNB()\n",
        "NaiveBayes.fit(x_train, y_train) \n",
        "y_pred = NaiveBayes.predict(x_test)"
      ],
      "execution_count": 10,
      "outputs": []
    },
    {
      "cell_type": "code",
      "metadata": {
        "colab": {
          "base_uri": "https://localhost:8080/"
        },
        "id": "SngsIkU_oSGK",
        "outputId": "c83f7c2f-529a-4f4f-967b-c824173876ac"
      },
      "source": [
        "resultado = confusion_matrix(y_test, y_pred)\n",
        "print(resultado)\n",
        "(TN, FP, FN, TP) = resultado.ravel()\n",
        "print(\"True positives: \"+str(TP))\n",
        "print(\"True negatives: \"+str(TN))\n",
        "print(\"False positives: \"+str(FP))\n",
        "print(\"False negative: \"+str(FN))\n",
        "\n",
        "acc = calcularAccuracy(TP, TN, FP, FN)\n",
        "sen = calcularSensibilidad(TP, TN, FP, FN)\n",
        "spec = calcularEspecificidad(TP, TN, FP, FN)\n",
        "print(\"Precision:\"+str(acc)+\"%\")\n",
        "print(\"Sensibilidad:\"+str(sen)+\"%\")\n",
        "print(\"Especificidad:\"+str(spec)+\"%\")"
      ],
      "execution_count": 11,
      "outputs": [
        {
          "output_type": "stream",
          "text": [
            "[[673  59]\n",
            " [ 62  87]]\n",
            "True positives: 87\n",
            "True negatives: 673\n",
            "False positives: 59\n",
            "False negative: 62\n",
            "Precision:86.2656072644722%\n",
            "Sensibilidad:58.38926174496645%\n",
            "Especificidad:91.93989071038251%\n"
          ],
          "name": "stdout"
        }
      ]
    },
    {
      "cell_type": "markdown",
      "metadata": {
        "id": "6ptXHhpQl6Kr"
      },
      "source": [
        "#### Validación: Random Forest"
      ]
    },
    {
      "cell_type": "code",
      "metadata": {
        "colab": {
          "base_uri": "https://localhost:8080/"
        },
        "id": "p1g9jMYomAGv",
        "outputId": "b3de379d-f84d-4a67-a10c-9e90787f38ce"
      },
      "source": [
        "from sklearn.model_selection import KFold \n",
        "from sklearn.linear_model import LogisticRegression\n",
        "from sklearn.metrics import accuracy_score\n",
        " \n",
        "k = 5\n",
        "kf = KFold(k,True, 12)\n",
        "model = forest(n_estimators = 800, random_state = 12)\n",
        " \n",
        "acc_score = []\n",
        "sen_score = []\n",
        "spec_score = []\n",
        "\n",
        "for train_index , test_index in kf.split(x):\n",
        "  x_train , x_test = x.iloc[train_index,:],x.iloc[test_index,:]\n",
        "  y_train , y_test = y[train_index] , y[test_index]\n",
        "    \n",
        "  model.fit(x_train,y_train)\n",
        "  y_pred = model.predict(x_test)\n",
        "\n",
        "  resultado = confusion_matrix(y_test, y_pred)\n",
        "\n",
        "  (TN, FP, FN, TP) = resultado.ravel()\n",
        "\n",
        "  acc = calcularAccuracy(TP, TN, FP, FN)\n",
        "  sen = calcularSensibilidad(TP, TN, FP, FN)\n",
        "  spec = calcularEspecificidad(TP, TN, FP, FN)\n",
        "\n",
        "  acc_score.append(acc)\n",
        "  sen_score.append(sen)\n",
        "  spec_score.append(spec)\n",
        "\n",
        "avg_acc_score = sum(acc_score)/k\n",
        "avg_sen_score = sum(sen_score)/k\n",
        "avg_spec_score = sum(spec_score)/k\n",
        " \n",
        "print('accuracy of each fold - {}'.format(acc_score))\n",
        "print('Avg accuracy : {}'.format(avg_acc_score))\n",
        "print('\\n')\n",
        "print('Sensitivity of each fold - {}'.format(sen_score))\n",
        "print('Avg sensitivity : {}'.format(avg_sen_score))\n",
        "print('\\n')\n",
        "print('Specificity of each fold - {}'.format(spec_score))\n",
        "print('Avg specificity : {}'.format(avg_spec_score))"
      ],
      "execution_count": 12,
      "outputs": [
        {
          "output_type": "stream",
          "text": [
            "accuracy of each fold - [90.2127659574468, 90.9090909090909, 89.0625, 87.7840909090909, 89.48863636363636]\n",
            "Avg accuracy : 89.491416827853\n",
            "\n",
            "\n",
            "Sensitivity of each fold - [62.8099173553719, 67.71653543307087, 57.49999999999999, 60.317460317460316, 63.10679611650486]\n",
            "Avg sensitivity : 62.290141844481596\n",
            "\n",
            "\n",
            "Specificity of each fold - [95.8904109589041, 96.01386481802426, 95.54794520547945, 93.77162629757785, 94.0099833610649]\n",
            "Avg specificity : 95.04676612821011\n"
          ],
          "name": "stdout"
        }
      ]
    },
    {
      "cell_type": "markdown",
      "metadata": {
        "id": "zcsw0K0KxQRc"
      },
      "source": [
        "#### Validación: Naive Bayes"
      ]
    },
    {
      "cell_type": "code",
      "metadata": {
        "colab": {
          "base_uri": "https://localhost:8080/"
        },
        "id": "5oRI-xUio5lo",
        "outputId": "38e45ffa-78ad-4769-8a4d-4cd4f553917b"
      },
      "source": [
        "k = 4\n",
        "kf = KFold(k,True, 12)\n",
        "model = GaussianNB()\n",
        " \n",
        "acc_score = []\n",
        "sen_score = []\n",
        "spec_score = []\n",
        "\n",
        "for train_index , test_index in kf.split(x):\n",
        "  x_train , x_test = x.iloc[train_index,:],x.iloc[test_index,:]\n",
        "  y_train , y_test = y[train_index] , y[test_index]\n",
        "    \n",
        "  model.fit(x_train,y_train)\n",
        "  y_pred = model.predict(x_test)\n",
        "\n",
        "\n",
        "  resultado = confusion_matrix(y_test, y_pred)\n",
        "\n",
        "  (TN, FP, FN, TP) = resultado.ravel()\n",
        "\n",
        "  acc = calcularAccuracy(TP, TN, FP, FN)\n",
        "  sen = calcularSensibilidad(TP, TN, FP, FN)\n",
        "  spec = calcularEspecificidad(TP, TN, FP, FN)\n",
        "\n",
        "  acc_score.append(acc)\n",
        "  sen_score.append(sen)\n",
        "  spec_score.append(spec)\n",
        "\n",
        "avg_acc_score = sum(acc_score)/k\n",
        "avg_sen_score = sum(sen_score)/k\n",
        "avg_spec_score = sum(spec_score)/k\n",
        " \n",
        "print('Accuracy - {}'.format(acc_score))\n",
        "print('Avg accuracy : {}'.format(avg_acc_score))\n",
        "print('\\n')\n",
        "print('Sensitivity - {}'.format(sen_score))\n",
        "print('Avg sensitivity : {}'.format(avg_sen_score))\n",
        "print('\\n')\n",
        "print('Specificity - {}'.format(spec_score))\n",
        "print('Avg specificity : {}'.format(avg_spec_score))"
      ],
      "execution_count": 13,
      "outputs": [
        {
          "output_type": "stream",
          "text": [
            "Accuracy - [86.9466515323496, 85.45454545454545, 87.1590909090909, 86.13636363636363]\n",
            "Avg accuracy : 86.4241628830874\n",
            "\n",
            "\n",
            "Sensitivity - [62.5, 59.756097560975604, 69.79865771812081, 65.9090909090909]\n",
            "Avg sensitivity : 64.49096154704682\n",
            "\n",
            "\n",
            "Specificity - [92.04389574759945, 91.34078212290503, 90.69767441860465, 89.70588235294117]\n",
            "Avg specificity : 90.94705866051257\n"
          ],
          "name": "stdout"
        }
      ]
    },
    {
      "cell_type": "markdown",
      "metadata": {
        "id": "fLlMgd5kzWT8"
      },
      "source": [
        "## Problemas de Regresión\n"
      ]
    },
    {
      "cell_type": "markdown",
      "metadata": {
        "id": "b0DBTQQqcvMz"
      },
      "source": [
        "### Ajuste de regresión Polinomial y algoritmo de validación cruzada\n",
        "\n",
        "- Problema: Predecir la posición final del conductor.\n",
        "    - Algoritmos: Regresión polinomial."
      ]
    },
    {
      "cell_type": "markdown",
      "metadata": {
        "id": "_5DfZ5QSFVYZ"
      },
      "source": [
        "Buscamos implementar un modelos de regresió lineal para predecir la posición final de un conductor en la carrera. El problema al que nos enfrentamos es que no tenemos demasiadas variables numéricas que podamos utilizar en nuestra regresión para nuestros fines predictivos. Quizá la variable más razonable a considerar es la posición del conductor en la clasifiación previa a la carrera, pero más allá de esta variable no consideramos que haya otras variables numéricas que tengan un poder predictivo considerables o que no estén fuertemente correlacionadas con la variable de la posición en la clasifiación. Entonces primero vamos a ajustar un modelo de regresión lineal simple y luego veremos si hay alguna forma de crear un modelo de regresión lineal múltiple."
      ]
    },
    {
      "cell_type": "code",
      "metadata": {
        "id": "Jpd2LrLfztxh",
        "colab": {
          "base_uri": "https://localhost:8080/",
          "height": 419
        },
        "outputId": "b2417d26-110b-45b0-d86c-90b1d408ed15"
      },
      "source": [
        "posicion_correlacion = pd.merge(df_dictionary['results'], df_dictionary['qualifying'],  how='inner', left_on=['raceId','driverId'], right_on = ['raceId','driverId'])\n",
        "posicion_correlacion = posicion_correlacion[['position_y','positionOrder']]\n",
        "posicion_correlacion.columns = ['QualifyPosition', 'RacePosition']\n",
        "posicion_correlacion"
      ],
      "execution_count": 14,
      "outputs": [
        {
          "output_type": "execute_result",
          "data": {
            "text/html": [
              "<div>\n",
              "<style scoped>\n",
              "    .dataframe tbody tr th:only-of-type {\n",
              "        vertical-align: middle;\n",
              "    }\n",
              "\n",
              "    .dataframe tbody tr th {\n",
              "        vertical-align: top;\n",
              "    }\n",
              "\n",
              "    .dataframe thead th {\n",
              "        text-align: right;\n",
              "    }\n",
              "</style>\n",
              "<table border=\"1\" class=\"dataframe\">\n",
              "  <thead>\n",
              "    <tr style=\"text-align: right;\">\n",
              "      <th></th>\n",
              "      <th>QualifyPosition</th>\n",
              "      <th>RacePosition</th>\n",
              "    </tr>\n",
              "  </thead>\n",
              "  <tbody>\n",
              "    <tr>\n",
              "      <th>0</th>\n",
              "      <td>1</td>\n",
              "      <td>1</td>\n",
              "    </tr>\n",
              "    <tr>\n",
              "      <th>1</th>\n",
              "      <td>5</td>\n",
              "      <td>2</td>\n",
              "    </tr>\n",
              "    <tr>\n",
              "      <th>2</th>\n",
              "      <td>7</td>\n",
              "      <td>3</td>\n",
              "    </tr>\n",
              "    <tr>\n",
              "      <th>3</th>\n",
              "      <td>12</td>\n",
              "      <td>4</td>\n",
              "    </tr>\n",
              "    <tr>\n",
              "      <th>4</th>\n",
              "      <td>3</td>\n",
              "      <td>5</td>\n",
              "    </tr>\n",
              "    <tr>\n",
              "      <th>...</th>\n",
              "      <td>...</td>\n",
              "      <td>...</td>\n",
              "    </tr>\n",
              "    <tr>\n",
              "      <th>8749</th>\n",
              "      <td>11</td>\n",
              "      <td>16</td>\n",
              "    </tr>\n",
              "    <tr>\n",
              "      <th>8750</th>\n",
              "      <td>19</td>\n",
              "      <td>17</td>\n",
              "    </tr>\n",
              "    <tr>\n",
              "      <th>8751</th>\n",
              "      <td>18</td>\n",
              "      <td>18</td>\n",
              "    </tr>\n",
              "    <tr>\n",
              "      <th>8752</th>\n",
              "      <td>20</td>\n",
              "      <td>19</td>\n",
              "    </tr>\n",
              "    <tr>\n",
              "      <th>8753</th>\n",
              "      <td>15</td>\n",
              "      <td>20</td>\n",
              "    </tr>\n",
              "  </tbody>\n",
              "</table>\n",
              "<p>8754 rows × 2 columns</p>\n",
              "</div>"
            ],
            "text/plain": [
              "      QualifyPosition  RacePosition\n",
              "0                   1             1\n",
              "1                   5             2\n",
              "2                   7             3\n",
              "3                  12             4\n",
              "4                   3             5\n",
              "...               ...           ...\n",
              "8749               11            16\n",
              "8750               19            17\n",
              "8751               18            18\n",
              "8752               20            19\n",
              "8753               15            20\n",
              "\n",
              "[8754 rows x 2 columns]"
            ]
          },
          "metadata": {
            "tags": []
          },
          "execution_count": 14
        }
      ]
    },
    {
      "cell_type": "code",
      "metadata": {
        "id": "RJd5cjIcovKy",
        "colab": {
          "base_uri": "https://localhost:8080/",
          "height": 296
        },
        "outputId": "44d00790-82e6-4b98-e232-3035868bdcc1"
      },
      "source": [
        "tabla = pd.crosstab(posicion_correlacion.RacePosition,posicion_correlacion.QualifyPosition, margins = False)\n",
        "sns.heatmap(tabla, annot=True, annot_kws={\"size\": 7})\n",
        "print(\"La correlación de Pearson entre la posicón de clasificación y la posición final de la carrera es de: \",\n",
        "      posicion_correlacion['QualifyPosition'].corr(posicion_correlacion['RacePosition']))"
      ],
      "execution_count": 15,
      "outputs": [
        {
          "output_type": "stream",
          "text": [
            "La correlación de Pearson entre la posicón de clasificación y la posición final de la carrera es de:  0.5642021228735716\n"
          ],
          "name": "stdout"
        },
        {
          "output_type": "display_data",
          "data": {
            "image/png": "[encoded data removed]",
            "text/plain": [
              "<Figure size 432x288 with 2 Axes>"
            ]
          },
          "metadata": {
            "tags": [],
            "needs_background": "light"
          }
        }
      ]
    },
    {
      "cell_type": "markdown",
      "metadata": {
        "id": "oyp1n6FfGz1P"
      },
      "source": [
        "Podemos observar que sí existe una correlación entre la posición en la clasifiación previa a la carrera y la posición final en la carrera. Resulta entonces razonable tratar de ajustar un modelo de regresión lineal simple con la posición en la clasificación como variable explicativa."
      ]
    },
    {
      "cell_type": "code",
      "metadata": {
        "id": "LTgi4zMmHuye",
        "colab": {
          "base_uri": "https://localhost:8080/",
          "height": 419
        },
        "outputId": "06de86dc-c5f5-4d3c-f52f-06041a7cfe2c"
      },
      "source": [
        "variables_explicativas = posicion_correlacion['QualifyPosition'].to_frame()\n",
        "variables_explicativas.columns = ['X1'] # Cambié el nombre de la columna porque será útil posteriormente\n",
        "lr = LinearRegression()\n",
        "lr.fit(variables_explicativas, posicion_correlacion['RacePosition']) # Ajustamos el modelo lineal\n",
        "position_predict = lr.predict(variables_explicativas) # Predecimos la posición en la carrera a partir de la posición en la clasifiación\n",
        "posicion_correlacion['Prediction'] = position_predict # Agregamos nuestras predicciones a la tabla\n",
        "posicion_correlacion"
      ],
      "execution_count": 16,
      "outputs": [
        {
          "output_type": "execute_result",
          "data": {
            "text/html": [
              "<div>\n",
              "<style scoped>\n",
              "    .dataframe tbody tr th:only-of-type {\n",
              "        vertical-align: middle;\n",
              "    }\n",
              "\n",
              "    .dataframe tbody tr th {\n",
              "        vertical-align: top;\n",
              "    }\n",
              "\n",
              "    .dataframe thead th {\n",
              "        text-align: right;\n",
              "    }\n",
              "</style>\n",
              "<table border=\"1\" class=\"dataframe\">\n",
              "  <thead>\n",
              "    <tr style=\"text-align: right;\">\n",
              "      <th></th>\n",
              "      <th>QualifyPosition</th>\n",
              "      <th>RacePosition</th>\n",
              "      <th>Prediction</th>\n",
              "    </tr>\n",
              "  </thead>\n",
              "  <tbody>\n",
              "    <tr>\n",
              "      <th>0</th>\n",
              "      <td>1</td>\n",
              "      <td>1</td>\n",
              "      <td>5.509276</td>\n",
              "    </tr>\n",
              "    <tr>\n",
              "      <th>1</th>\n",
              "      <td>5</td>\n",
              "      <td>2</td>\n",
              "      <td>7.771432</td>\n",
              "    </tr>\n",
              "    <tr>\n",
              "      <th>2</th>\n",
              "      <td>7</td>\n",
              "      <td>3</td>\n",
              "      <td>8.902510</td>\n",
              "    </tr>\n",
              "    <tr>\n",
              "      <th>3</th>\n",
              "      <td>12</td>\n",
              "      <td>4</td>\n",
              "      <td>11.730206</td>\n",
              "    </tr>\n",
              "    <tr>\n",
              "      <th>4</th>\n",
              "      <td>3</td>\n",
              "      <td>5</td>\n",
              "      <td>6.640354</td>\n",
              "    </tr>\n",
              "    <tr>\n",
              "      <th>...</th>\n",
              "      <td>...</td>\n",
              "      <td>...</td>\n",
              "      <td>...</td>\n",
              "    </tr>\n",
              "    <tr>\n",
              "      <th>8749</th>\n",
              "      <td>11</td>\n",
              "      <td>16</td>\n",
              "      <td>11.164667</td>\n",
              "    </tr>\n",
              "    <tr>\n",
              "      <th>8750</th>\n",
              "      <td>19</td>\n",
              "      <td>17</td>\n",
              "      <td>15.688980</td>\n",
              "    </tr>\n",
              "    <tr>\n",
              "      <th>8751</th>\n",
              "      <td>18</td>\n",
              "      <td>18</td>\n",
              "      <td>15.123441</td>\n",
              "    </tr>\n",
              "    <tr>\n",
              "      <th>8752</th>\n",
              "      <td>20</td>\n",
              "      <td>19</td>\n",
              "      <td>16.254519</td>\n",
              "    </tr>\n",
              "    <tr>\n",
              "      <th>8753</th>\n",
              "      <td>15</td>\n",
              "      <td>20</td>\n",
              "      <td>13.426823</td>\n",
              "    </tr>\n",
              "  </tbody>\n",
              "</table>\n",
              "<p>8754 rows × 3 columns</p>\n",
              "</div>"
            ],
            "text/plain": [
              "      QualifyPosition  RacePosition  Prediction\n",
              "0                   1             1    5.509276\n",
              "1                   5             2    7.771432\n",
              "2                   7             3    8.902510\n",
              "3                  12             4   11.730206\n",
              "4                   3             5    6.640354\n",
              "...               ...           ...         ...\n",
              "8749               11            16   11.164667\n",
              "8750               19            17   15.688980\n",
              "8751               18            18   15.123441\n",
              "8752               20            19   16.254519\n",
              "8753               15            20   13.426823\n",
              "\n",
              "[8754 rows x 3 columns]"
            ]
          },
          "metadata": {
            "tags": []
          },
          "execution_count": 16
        }
      ]
    },
    {
      "cell_type": "code",
      "metadata": {
        "id": "UlP_KAkWJWo6",
        "colab": {
          "base_uri": "https://localhost:8080/"
        },
        "outputId": "17a934bf-b0f4-4d91-b608-234e7dc50a48"
      },
      "source": [
        "sum((posicion_correlacion.RacePosition - posicion_correlacion.Prediction)**2) # Calculamos la suma del cuadrado de los errores de nuestras predicciones"
      ],
      "execution_count": 17,
      "outputs": [
        {
          "output_type": "execute_result",
          "data": {
            "text/plain": [
              "241309.51598884372"
            ]
          },
          "metadata": {
            "tags": []
          },
          "execution_count": 17
        }
      ]
    },
    {
      "cell_type": "markdown",
      "metadata": {
        "id": "KZNeJHCIJxMJ"
      },
      "source": [
        "Basta con observar la primera predicción para darnos cuenta de que nuestro modelo de regresión lineal simple es bastante mediocre para predecir la posición final del piloto en la carrera. Por ejemplo, nuestro modelo estima que si un conductor se clasifica en primer lugar terminará en quinta o sexta posición. Quienes conocemos este deporte sabemos que eso no parece ser una buena estimación porque la mayoría de las veces esto no sucede. ¿Podemos mejorar nuestro modelo? Ya dijimos anteriormente que nuestra base de datos no tiene muchas variables numéricas que tengan poder predictivo en este contexto, pero podemos aprovechar el poder predictivo de la variable que ya hemos elegido, a saber, la posición en la clasificación, de una manera distinta. Podriamos tratar de ajustar un modelo de regresión, ya no simple, sino múltiple. ¿Cómo es posible hacer esto si sólo contamos con una variable explicativa? Podríamos crear una nueva variable que sea el cuadrado de la variable explicativa que ya tenemos. Esto quizá aumente la precisión de las predicciones de nuestro modelo puesto que ahora en lugar de ajustar una linea recta a los datos estamos ajustando el polinomio de segundo grado que minimiza la suma del cuadrado de los errores. Podríamos ir incluso más allá y tratar de ajustar un polinomio de grado $n$."
      ]
    },
    {
      "cell_type": "code",
      "metadata": {
        "id": "9KPcc42yMh3A",
        "colab": {
          "base_uri": "https://localhost:8080/"
        },
        "outputId": "9ec4862e-1d5b-4621-ee93-3f0208d66704"
      },
      "source": [
        "variables_explicativas['X2'] = posicion_correlacion['QualifyPosition']**2\n",
        "print(variables_explicativas)"
      ],
      "execution_count": 18,
      "outputs": [
        {
          "output_type": "stream",
          "text": [
            "      X1   X2\n",
            "0      1    1\n",
            "1      5   25\n",
            "2      7   49\n",
            "3     12  144\n",
            "4      3    9\n",
            "...   ..  ...\n",
            "8749  11  121\n",
            "8750  19  361\n",
            "8751  18  324\n",
            "8752  20  400\n",
            "8753  15  225\n",
            "\n",
            "[8754 rows x 2 columns]\n"
          ],
          "name": "stdout"
        }
      ]
    },
    {
      "cell_type": "code",
      "metadata": {
        "id": "q6fY6sPgNCKw",
        "colab": {
          "base_uri": "https://localhost:8080/",
          "height": 419
        },
        "outputId": "3f19072a-b694-42e8-a0dd-6f7751c78804"
      },
      "source": [
        "lr = LinearRegression()\n",
        "lr.fit(variables_explicativas, posicion_correlacion['RacePosition']) # Ajustamos el modelo lineal\n",
        "position_predict = lr.predict(variables_explicativas) # Predecimos la posición en la carrera a partir de la posición en la clasifiación\n",
        "posicion_correlacion['Prediction'] = position_predict # Agregamos nuestras predicciones a la tabla\n",
        "posicion_correlacion"
      ],
      "execution_count": 19,
      "outputs": [
        {
          "output_type": "execute_result",
          "data": {
            "text/html": [
              "<div>\n",
              "<style scoped>\n",
              "    .dataframe tbody tr th:only-of-type {\n",
              "        vertical-align: middle;\n",
              "    }\n",
              "\n",
              "    .dataframe tbody tr th {\n",
              "        vertical-align: top;\n",
              "    }\n",
              "\n",
              "    .dataframe thead th {\n",
              "        text-align: right;\n",
              "    }\n",
              "</style>\n",
              "<table border=\"1\" class=\"dataframe\">\n",
              "  <thead>\n",
              "    <tr style=\"text-align: right;\">\n",
              "      <th></th>\n",
              "      <th>QualifyPosition</th>\n",
              "      <th>RacePosition</th>\n",
              "      <th>Prediction</th>\n",
              "    </tr>\n",
              "  </thead>\n",
              "  <tbody>\n",
              "    <tr>\n",
              "      <th>0</th>\n",
              "      <td>1</td>\n",
              "      <td>1</td>\n",
              "      <td>4.787674</td>\n",
              "    </tr>\n",
              "    <tr>\n",
              "      <th>1</th>\n",
              "      <td>5</td>\n",
              "      <td>2</td>\n",
              "      <td>7.739882</td>\n",
              "    </tr>\n",
              "    <tr>\n",
              "      <th>2</th>\n",
              "      <td>7</td>\n",
              "      <td>3</td>\n",
              "      <td>9.095519</td>\n",
              "    </tr>\n",
              "    <tr>\n",
              "      <th>3</th>\n",
              "      <td>12</td>\n",
              "      <td>4</td>\n",
              "      <td>12.133246</td>\n",
              "    </tr>\n",
              "    <tr>\n",
              "      <th>4</th>\n",
              "      <td>3</td>\n",
              "      <td>5</td>\n",
              "      <td>6.303934</td>\n",
              "    </tr>\n",
              "    <tr>\n",
              "      <th>...</th>\n",
              "      <td>...</td>\n",
              "      <td>...</td>\n",
              "      <td>...</td>\n",
              "    </tr>\n",
              "    <tr>\n",
              "      <th>8749</th>\n",
              "      <td>11</td>\n",
              "      <td>16</td>\n",
              "      <td>11.565856</td>\n",
              "    </tr>\n",
              "    <tr>\n",
              "      <th>8750</th>\n",
              "      <td>19</td>\n",
              "      <td>17</td>\n",
              "      <td>15.542789</td>\n",
              "    </tr>\n",
              "    <tr>\n",
              "      <th>8751</th>\n",
              "      <td>18</td>\n",
              "      <td>18</td>\n",
              "      <td>15.115945</td>\n",
              "    </tr>\n",
              "    <tr>\n",
              "      <th>8752</th>\n",
              "      <td>20</td>\n",
              "      <td>19</td>\n",
              "      <td>15.949555</td>\n",
              "    </tr>\n",
              "    <tr>\n",
              "      <th>8753</th>\n",
              "      <td>15</td>\n",
              "      <td>20</td>\n",
              "      <td>13.714946</td>\n",
              "    </tr>\n",
              "  </tbody>\n",
              "</table>\n",
              "<p>8754 rows × 3 columns</p>\n",
              "</div>"
            ],
            "text/plain": [
              "      QualifyPosition  RacePosition  Prediction\n",
              "0                   1             1    4.787674\n",
              "1                   5             2    7.739882\n",
              "2                   7             3    9.095519\n",
              "3                  12             4   12.133246\n",
              "4                   3             5    6.303934\n",
              "...               ...           ...         ...\n",
              "8749               11            16   11.565856\n",
              "8750               19            17   15.542789\n",
              "8751               18            18   15.115945\n",
              "8752               20            19   15.949555\n",
              "8753               15            20   13.714946\n",
              "\n",
              "[8754 rows x 3 columns]"
            ]
          },
          "metadata": {
            "tags": []
          },
          "execution_count": 19
        }
      ]
    },
    {
      "cell_type": "code",
      "metadata": {
        "id": "yu0opZeVNaro",
        "colab": {
          "base_uri": "https://localhost:8080/"
        },
        "outputId": "cc767632-35b1-4d01-a02f-6885e7614674"
      },
      "source": [
        "sum((posicion_correlacion.RacePosition - posicion_correlacion.Prediction)**2) # Calculamos la suma del cuadrado de los errores de nuestras predicciones"
      ],
      "execution_count": 20,
      "outputs": [
        {
          "output_type": "execute_result",
          "data": {
            "text/plain": [
              "240001.52389944677"
            ]
          },
          "metadata": {
            "tags": []
          },
          "execution_count": 20
        }
      ]
    },
    {
      "cell_type": "markdown",
      "metadata": {
        "id": "hlBAqt3YNnXR"
      },
      "source": [
        "La suma del cuadrado de los errores de nuestro primer modelo es de $241309.51598884372$, mientras que en nuestro segundo modelo es de $240001.52389944677$. Esto quiere decir que nuestro segundo modelo tiene mayor presición. De hecho, siempre que aumentemos en uno el grado del polinomio que estamos ajustando tendremos predicciones que son, al menos, tan buenas como las anteriores. Esto se debe a que la familia de polinomios $p_{1}(x) = \\beta_{0} + \\beta_{1}x + ... + \\beta_{n}x^{n-1} + \\beta_{n}x^n$ contiene en su totalidad a los polinomio de la forma $p_{2}(x) = \\beta_{0} + \\beta_{1}x + ... + \\beta_{n}x^{n-1}$ pues bastaría asignar a $\\beta_{n}=0$ en $p_{1}$ para que ambos conjuntos de polinomios coincidieran. Ahora ajustemos un polinomio de grado tres y veamos qué pasa."
      ]
    },
    {
      "cell_type": "code",
      "metadata": {
        "id": "6EgCNp-fQkbm",
        "colab": {
          "base_uri": "https://localhost:8080/"
        },
        "outputId": "aa6a4945-a753-4142-df62-5226532f6e08"
      },
      "source": [
        "variables_explicativas['X3'] = posicion_correlacion['QualifyPosition']**3\n",
        "print(variables_explicativas)"
      ],
      "execution_count": 21,
      "outputs": [
        {
          "output_type": "stream",
          "text": [
            "      X1   X2    X3\n",
            "0      1    1     1\n",
            "1      5   25   125\n",
            "2      7   49   343\n",
            "3     12  144  1728\n",
            "4      3    9    27\n",
            "...   ..  ...   ...\n",
            "8749  11  121  1331\n",
            "8750  19  361  6859\n",
            "8751  18  324  5832\n",
            "8752  20  400  8000\n",
            "8753  15  225  3375\n",
            "\n",
            "[8754 rows x 3 columns]\n"
          ],
          "name": "stdout"
        }
      ]
    },
    {
      "cell_type": "code",
      "metadata": {
        "id": "_qP7nfgZQsnE",
        "colab": {
          "base_uri": "https://localhost:8080/",
          "height": 419
        },
        "outputId": "4df4641c-b9a9-4a32-cabe-93771e57825a"
      },
      "source": [
        "lr = LinearRegression()\n",
        "lr.fit(variables_explicativas, posicion_correlacion['RacePosition']) # Ajustamos el modelo lineal\n",
        "position_predict = lr.predict(variables_explicativas) # Predecimos la posición en la carrera a partir de la posición en la clasifiación\n",
        "posicion_correlacion['Prediction'] = position_predict # Agregamos nuestras predicciones a la tabla\n",
        "posicion_correlacion"
      ],
      "execution_count": 22,
      "outputs": [
        {
          "output_type": "execute_result",
          "data": {
            "text/html": [
              "<div>\n",
              "<style scoped>\n",
              "    .dataframe tbody tr th:only-of-type {\n",
              "        vertical-align: middle;\n",
              "    }\n",
              "\n",
              "    .dataframe tbody tr th {\n",
              "        vertical-align: top;\n",
              "    }\n",
              "\n",
              "    .dataframe thead th {\n",
              "        text-align: right;\n",
              "    }\n",
              "</style>\n",
              "<table border=\"1\" class=\"dataframe\">\n",
              "  <thead>\n",
              "    <tr style=\"text-align: right;\">\n",
              "      <th></th>\n",
              "      <th>QualifyPosition</th>\n",
              "      <th>RacePosition</th>\n",
              "      <th>Prediction</th>\n",
              "    </tr>\n",
              "  </thead>\n",
              "  <tbody>\n",
              "    <tr>\n",
              "      <th>0</th>\n",
              "      <td>1</td>\n",
              "      <td>1</td>\n",
              "      <td>4.284861</td>\n",
              "    </tr>\n",
              "    <tr>\n",
              "      <th>1</th>\n",
              "      <td>5</td>\n",
              "      <td>2</td>\n",
              "      <td>7.961079</td>\n",
              "    </tr>\n",
              "    <tr>\n",
              "      <th>2</th>\n",
              "      <td>7</td>\n",
              "      <td>3</td>\n",
              "      <td>9.384995</td>\n",
              "    </tr>\n",
              "    <tr>\n",
              "      <th>3</th>\n",
              "      <td>12</td>\n",
              "      <td>4</td>\n",
              "      <td>12.145124</td>\n",
              "    </tr>\n",
              "    <tr>\n",
              "      <th>4</th>\n",
              "      <td>3</td>\n",
              "      <td>5</td>\n",
              "      <td>6.278007</td>\n",
              "    </tr>\n",
              "    <tr>\n",
              "      <th>...</th>\n",
              "      <td>...</td>\n",
              "      <td>...</td>\n",
              "      <td>...</td>\n",
              "    </tr>\n",
              "    <tr>\n",
              "      <th>8749</th>\n",
              "      <td>11</td>\n",
              "      <td>16</td>\n",
              "      <td>11.659029</td>\n",
              "    </tr>\n",
              "    <tr>\n",
              "      <th>8750</th>\n",
              "      <td>19</td>\n",
              "      <td>17</td>\n",
              "      <td>15.337604</td>\n",
              "    </tr>\n",
              "    <tr>\n",
              "      <th>8751</th>\n",
              "      <td>18</td>\n",
              "      <td>18</td>\n",
              "      <td>14.859502</td>\n",
              "    </tr>\n",
              "    <tr>\n",
              "      <th>8752</th>\n",
              "      <td>20</td>\n",
              "      <td>19</td>\n",
              "      <td>15.840022</td>\n",
              "    </tr>\n",
              "    <tr>\n",
              "      <th>8753</th>\n",
              "      <td>15</td>\n",
              "      <td>20</td>\n",
              "      <td>13.507451</td>\n",
              "    </tr>\n",
              "  </tbody>\n",
              "</table>\n",
              "<p>8754 rows × 3 columns</p>\n",
              "</div>"
            ],
            "text/plain": [
              "      QualifyPosition  RacePosition  Prediction\n",
              "0                   1             1    4.284861\n",
              "1                   5             2    7.961079\n",
              "2                   7             3    9.384995\n",
              "3                  12             4   12.145124\n",
              "4                   3             5    6.278007\n",
              "...               ...           ...         ...\n",
              "8749               11            16   11.659029\n",
              "8750               19            17   15.337604\n",
              "8751               18            18   14.859502\n",
              "8752               20            19   15.840022\n",
              "8753               15            20   13.507451\n",
              "\n",
              "[8754 rows x 3 columns]"
            ]
          },
          "metadata": {
            "tags": []
          },
          "execution_count": 22
        }
      ]
    },
    {
      "cell_type": "code",
      "metadata": {
        "id": "sfsjofPQQ_wD",
        "colab": {
          "base_uri": "https://localhost:8080/"
        },
        "outputId": "5e5cdcdd-9c3d-422e-bacd-7051a5b76c11"
      },
      "source": [
        "sum((posicion_correlacion.RacePosition - posicion_correlacion.Prediction)**2) # Calculamos la suma del cuadrado de los errores de nuestras predicciones"
      ],
      "execution_count": 23,
      "outputs": [
        {
          "output_type": "execute_result",
          "data": {
            "text/plain": [
              "239385.5715207589"
            ]
          },
          "metadata": {
            "tags": []
          },
          "execution_count": 23
        }
      ]
    },
    {
      "cell_type": "markdown",
      "metadata": {
        "id": "1eAdejx-gxzL"
      },
      "source": [
        "#### Validación"
      ]
    },
    {
      "cell_type": "markdown",
      "metadata": {
        "id": "K3YcHsrpREfZ"
      },
      "source": [
        "Como habíamos ya explicado anteriormente, se cumple que agregar un grado al polinomio nos da mayor precisión en nuestra predicción. ¿Por qué no seguir aumentando el grado del polinomio, por ejemplo, un polinomio de grado 20 para seguir aumentando la precisión de nuestras predicciones? Porque estaríamos corriendo el riesgo de sobreentrenar nuestro modelo, es decir, crearíamos un modelo que se ajusta tan bien a los datos de entrenamiento que se vuelve malo prediciendo para datos que no formaban parte del entrenamiento. Debe entonces haber un grado de polinomio óptimo que no sobreentrene y que nos dé la mayor capacidad de generalización. Trataremos de encontrar el grado del polinomio óptimo a través de **leave one out cross validation**. "
      ]
    },
    {
      "cell_type": "code",
      "metadata": {
        "id": "GuZuOreGTssv"
      },
      "source": [
        "# df.sample(frac=1)\n",
        "def cross_validate(X): # X es un dataframe donde la última columna tiene la variable a predecir y el resto las variables explicativas\n",
        "  X = X.sample(frac=1).reset_index(drop=True) # Revolvemos los datos\n",
        "  errores = []\n",
        "  for i in range(len(X)):\n",
        "    testing = X.iloc[i:i+1] # Seleccionamos el bloque de prueba\n",
        "    training = X[~X.index.isin(testing.index)] # Seleccionamos el bloque de entrenamiento\n",
        "    lr = LinearRegression() # Inicializa la regresión\n",
        "    lr.fit(training.iloc[:,:-1], training.iloc[:,-1:]) # Ajusta el modelo a los datos de entrenamiento\n",
        "    predictions = lr.predict(testing.iloc[:,:-1]) # Aplica la regresión a los datos de prueba\n",
        "    errores.append(sum((testing.iloc[:,-1:].values - predictions)**2)) # Almacena la suma del cuadrado de los errores del modelo en una lista\n",
        "\n",
        "  return np.mean(errores)"
      ],
      "execution_count": 24,
      "outputs": []
    },
    {
      "cell_type": "markdown",
      "metadata": {
        "id": "LXFJmrr9sAW2"
      },
      "source": [
        "Para llamar a la función ```cross_validate``` vamos a crear cinco dtaframes cada una de ellas con una cantidad distinta de variables explicativas. La más simple será aquella que sólo tiene la posición en la clasificación. La última tabla será aquella que tiene a la variable de posición en clasificación elvada al cuadrado, al cubo, a la cuarta y a la quinta potencia."
      ]
    },
    {
      "cell_type": "code",
      "metadata": {
        "id": "51vQIJvQa1TL",
        "colab": {
          "base_uri": "https://localhost:8080/"
        },
        "outputId": "a37b6d30-792d-40c0-f08a-d9b1a76c80eb"
      },
      "source": [
        "posicion_correlacion = pd.merge(df_dictionary['results'], df_dictionary['qualifying'],  how='inner', left_on=['raceId','driverId'], right_on = ['raceId','driverId'])\n",
        "posicion_correlacion = posicion_correlacion[['position_y','positionOrder']]\n",
        "posicion_correlacion.columns = ['QualifyPosition', 'RacePosition']\n",
        "\n",
        "aux = posicion_correlacion.RacePosition\n",
        "del posicion_correlacion['RacePosition']\n",
        "posicion_correlacion.columns = ['X1']\n",
        "posicion_correlacion['X2'] = posicion_correlacion['X1']**2\n",
        "posicion_correlacion['X3'] = posicion_correlacion['X1']**3\n",
        "posicion_correlacion['X4'] = posicion_correlacion['X1']**4\n",
        "posicion_correlacion['X5'] = posicion_correlacion['X1']**5\n",
        "\n",
        "tablas_explicativas = []\n",
        "for i in range(0,5):\n",
        "  tabla = posicion_correlacion.iloc[:,0:i+1]\n",
        "  tabla['Y'] = aux\n",
        "  tablas_explicativas.append(tabla)"
      ],
      "execution_count": 25,
      "outputs": [
        {
          "output_type": "stream",
          "text": [
            "/usr/local/lib/python3.7/dist-packages/ipykernel_launcher.py:16: SettingWithCopyWarning: \n",
            "A value is trying to be set on a copy of a slice from a DataFrame.\n",
            "Try using .loc[row_indexer,col_indexer] = value instead\n",
            "\n",
            "See the caveats in the documentation: https://pandas.pydata.org/pandas-docs/stable/user_guide/indexing.html#returning-a-view-versus-a-copy\n",
            "  app.launch_new_instance()\n"
          ],
          "name": "stderr"
        }
      ]
    },
    {
      "cell_type": "markdown",
      "metadata": {
        "id": "jfrszX53s8do"
      },
      "source": [
        "Ahora sólo resta aplicar la función ```cross_validate``` a cada una de las tablas contenidas en ```tablas_explicativas``` para saber cuál modelo tiene mayor capacidad de generalización."
      ]
    },
    {
      "cell_type": "code",
      "metadata": {
        "colab": {
          "base_uri": "https://localhost:8080/"
        },
        "id": "MGkpIhJHtQ9N",
        "outputId": "46ed43e2-89af-4b1b-a6b4-d80161b83238"
      },
      "source": [
        "print(\"Promedio de error cuadrado para polinomio de grado \", 1, \" : \",cross_validate(tablas_explicativas[0]))\n",
        "print(\"Promedio de error cuadrado para polinomio de grado \", 2, \" : \",cross_validate(tablas_explicativas[1]))\n",
        "print(\"Promedio de error cuadrado para polinomio de grado \", 3, \" : \",cross_validate(tablas_explicativas[2]))\n",
        "print(\"Promedio de error cuadrado para polinomio de grado \", 4, \" : \",cross_validate(tablas_explicativas[3]))\n",
        "print(\"Promedio de error cuadrado para polinomio de grado \", 5, \" : \",cross_validate(tablas_explicativas[4]))"
      ],
      "execution_count": 26,
      "outputs": [
        {
          "output_type": "stream",
          "text": [
            "Promedio de error cuadrado para polinomio de grado  1  :  27.578280721638908\n",
            "Promedio de error cuadrado para polinomio de grado  2  :  27.435261991033787\n",
            "Promedio de error cuadrado para polinomio de grado  3  :  27.37154224189793\n",
            "Promedio de error cuadrado para polinomio de grado  4  :  27.37654257846325\n",
            "Promedio de error cuadrado para polinomio de grado  5  :  27.382128559776334\n"
          ],
          "name": "stdout"
        }
      ]
    },
    {
      "cell_type": "markdown",
      "metadata": {
        "id": "DteaC6uUz2Wy"
      },
      "source": [
        "Entonces la suma del cuadrado de los errores al momento de poner a prueba nuestro modelo con datos que nunca había visto fue menor cuando utilizamos un polinomio de tercer grado. Para obtener entonces el modelo final, ajustaremos el modelo de regresión con un polinomio de cuarto grado pero ya no a un subconjunto del dataset original, sino a todo el dataset."
      ]
    },
    {
      "cell_type": "code",
      "metadata": {
        "colab": {
          "base_uri": "https://localhost:8080/"
        },
        "id": "tYY4--0-0YH2",
        "outputId": "45de6504-f540-430e-9b81-046c3865cfa0"
      },
      "source": [
        "lr = LinearRegression()\n",
        "lr.fit(tablas_explicativas[2].iloc[:,:-1], tablas_explicativas[2].iloc[:,-1:]) # Ajusta el modelo a los datos de entrenamiento"
      ],
      "execution_count": 27,
      "outputs": [
        {
          "output_type": "execute_result",
          "data": {
            "text/plain": [
              "LinearRegression(copy_X=True, fit_intercept=True, n_jobs=None, normalize=False)"
            ]
          },
          "metadata": {
            "tags": []
          },
          "execution_count": 27
        }
      ]
    },
    {
      "cell_type": "markdown",
      "metadata": {
        "id": "Ug-Z3otP1_iq"
      },
      "source": [
        "Ahora el modelo ```lr``` puede ser utilizado para predecir la posición final de un piloto respecto a su posición en la clasifiación. Con la información que tenemos a nuestra disposicón es la regresión con la mayor capacidad de generalización, aunque su precisión aún deja mucho que desear."
      ]
    },
    {
      "cell_type": "markdown",
      "metadata": {
        "id": "FOZtjvXiSePR"
      },
      "source": [
        "## Problemas de Clasificación\n",
        "\n",
        "- Problema: Predicir la posición final del conductor.\n",
        "    - Algoritmos: Árboles de desición, bosques aleatorios, bagging y XGBoost.\n"
      ]
    },
    {
      "cell_type": "markdown",
      "metadata": {
        "id": "UF6aeooF-9u-"
      },
      "source": [
        "### Bosques Aleatorios"
      ]
    },
    {
      "cell_type": "code",
      "metadata": {
        "id": "5FSJ5Fz-62fc"
      },
      "source": [
        "aux_table_1 = df_dictionary['results'].merge(df_dictionary['drivers'], left_on='driverId',right_on='driverId')\n",
        "aux_table_2 = aux_table_1.merge(df_dictionary['constructors'], left_on='constructorId', right_on='constructorId')\n",
        "aux_table_3 = aux_table_2.merge(df_dictionary['races'], left_on='raceId', right_on='raceId')\n",
        "aux_table_4 = aux_table_3.merge(df_dictionary['circuits'], left_on='circuitId', right_on='circuitId')"
      ],
      "execution_count": null,
      "outputs": []
    },
    {
      "cell_type": "code",
      "metadata": {
        "id": "3A6r909p9_0c"
      },
      "source": [
        "df_predict_position = aux_table_4[['raceId', 'name', 'name_x', 'code', 'grid', 'positionOrder']] # Nos quedamos únicamente con los campos de importancia"
      ],
      "execution_count": null,
      "outputs": []
    },
    {
      "cell_type": "code",
      "metadata": {
        "id": "xNiYTJ0WGFCv",
        "colab": {
          "base_uri": "https://localhost:8080/",
          "height": 249
        },
        "outputId": "07e70d4f-095d-4ff7-af05-7d902f2f06af"
      },
      "source": [
        "df_predict_position = df_predict_position.rename(columns={'name': 'circuit', 'name_x': 'constructor', 'code': 'racer'})\n",
        "df_predict_position = df_predict_position[df_predict_position.racer.isin(['HAM','BOT','VER','PER','LEC','SAI','RIC','NOR','GAS','STR','VET','ALO','OCO','RUS','LAT'])]\n",
        "features = pd.get_dummies(df_predict_position) # Hacemos un one-hot encoding para poder aplicar el algoritmo de bosques aleatorios\n",
        "features.head()"
      ],
      "execution_count": null,
      "outputs": [
        {
          "output_type": "execute_result",
          "data": {
            "text/html": [
              "<div>\n",
              "<style scoped>\n",
              "    .dataframe tbody tr th:only-of-type {\n",
              "        vertical-align: middle;\n",
              "    }\n",
              "\n",
              "    .dataframe tbody tr th {\n",
              "        vertical-align: top;\n",
              "    }\n",
              "\n",
              "    .dataframe thead th {\n",
              "        text-align: right;\n",
              "    }\n",
              "</style>\n",
              "<table border=\"1\" class=\"dataframe\">\n",
              "  <thead>\n",
              "    <tr style=\"text-align: right;\">\n",
              "      <th></th>\n",
              "      <th>raceId</th>\n",
              "      <th>grid</th>\n",
              "      <th>positionOrder</th>\n",
              "      <th>circuit_A1-Ring</th>\n",
              "      <th>circuit_Albert Park Grand Prix Circuit</th>\n",
              "      <th>circuit_Autodromo Enzo e Dino Ferrari</th>\n",
              "      <th>circuit_Autodromo Internazionale del Mugello</th>\n",
              "      <th>circuit_Autodromo Nazionale di Monza</th>\n",
              "      <th>circuit_AutÃ³dromo Hermanos RodrÃ­guez</th>\n",
              "      <th>circuit_AutÃ³dromo Internacional do Algarve</th>\n",
              "      <th>circuit_AutÃ³dromo JosÃ© Carlos Pace</th>\n",
              "      <th>circuit_Bahrain International Circuit</th>\n",
              "      <th>circuit_Baku City Circuit</th>\n",
              "      <th>circuit_Buddh International Circuit</th>\n",
              "      <th>circuit_Circuit Gilles Villeneuve</th>\n",
              "      <th>circuit_Circuit Paul Ricard</th>\n",
              "      <th>circuit_Circuit de Barcelona-Catalunya</th>\n",
              "      <th>circuit_Circuit de Monaco</th>\n",
              "      <th>circuit_Circuit de Nevers Magny-Cours</th>\n",
              "      <th>circuit_Circuit de Spa-Francorchamps</th>\n",
              "      <th>circuit_Circuit of the Americas</th>\n",
              "      <th>circuit_Fuji Speedway</th>\n",
              "      <th>circuit_Hockenheimring</th>\n",
              "      <th>circuit_Hungaroring</th>\n",
              "      <th>circuit_Indianapolis Motor Speedway</th>\n",
              "      <th>circuit_Istanbul Park</th>\n",
              "      <th>circuit_Korean International Circuit</th>\n",
              "      <th>circuit_Marina Bay Street Circuit</th>\n",
              "      <th>circuit_NÃ¼rburgring</th>\n",
              "      <th>circuit_Red Bull Ring</th>\n",
              "      <th>circuit_Sepang International Circuit</th>\n",
              "      <th>circuit_Shanghai International Circuit</th>\n",
              "      <th>circuit_Silverstone Circuit</th>\n",
              "      <th>circuit_Sochi Autodrom</th>\n",
              "      <th>circuit_Suzuka Circuit</th>\n",
              "      <th>circuit_Valencia Street Circuit</th>\n",
              "      <th>circuit_Yas Marina Circuit</th>\n",
              "      <th>constructor_AlphaTauri</th>\n",
              "      <th>constructor_Alpine F1 Team</th>\n",
              "      <th>constructor_Aston Martin</th>\n",
              "      <th>constructor_BMW Sauber</th>\n",
              "      <th>constructor_Ferrari</th>\n",
              "      <th>constructor_Force India</th>\n",
              "      <th>constructor_HRT</th>\n",
              "      <th>constructor_Manor Marussia</th>\n",
              "      <th>constructor_McLaren</th>\n",
              "      <th>constructor_Mercedes</th>\n",
              "      <th>constructor_Minardi</th>\n",
              "      <th>constructor_Racing Point</th>\n",
              "      <th>constructor_Red Bull</th>\n",
              "      <th>constructor_Renault</th>\n",
              "      <th>constructor_Sauber</th>\n",
              "      <th>constructor_Toro Rosso</th>\n",
              "      <th>constructor_Williams</th>\n",
              "      <th>racer_ALO</th>\n",
              "      <th>racer_BOT</th>\n",
              "      <th>racer_GAS</th>\n",
              "      <th>racer_HAM</th>\n",
              "      <th>racer_LAT</th>\n",
              "      <th>racer_LEC</th>\n",
              "      <th>racer_NOR</th>\n",
              "      <th>racer_OCO</th>\n",
              "      <th>racer_PER</th>\n",
              "      <th>racer_RIC</th>\n",
              "      <th>racer_RUS</th>\n",
              "      <th>racer_SAI</th>\n",
              "      <th>racer_STR</th>\n",
              "      <th>racer_VER</th>\n",
              "      <th>racer_VET</th>\n",
              "    </tr>\n",
              "  </thead>\n",
              "  <tbody>\n",
              "    <tr>\n",
              "      <th>0</th>\n",
              "      <td>18</td>\n",
              "      <td>1</td>\n",
              "      <td>1</td>\n",
              "      <td>0</td>\n",
              "      <td>1</td>\n",
              "      <td>0</td>\n",
              "      <td>0</td>\n",
              "      <td>0</td>\n",
              "      <td>0</td>\n",
              "      <td>0</td>\n",
              "      <td>0</td>\n",
              "      <td>0</td>\n",
              "      <td>0</td>\n",
              "      <td>0</td>\n",
              "      <td>0</td>\n",
              "      <td>0</td>\n",
              "      <td>0</td>\n",
              "      <td>0</td>\n",
              "      <td>0</td>\n",
              "      <td>0</td>\n",
              "      <td>0</td>\n",
              "      <td>0</td>\n",
              "      <td>0</td>\n",
              "      <td>0</td>\n",
              "      <td>0</td>\n",
              "      <td>0</td>\n",
              "      <td>0</td>\n",
              "      <td>0</td>\n",
              "      <td>0</td>\n",
              "      <td>0</td>\n",
              "      <td>0</td>\n",
              "      <td>0</td>\n",
              "      <td>0</td>\n",
              "      <td>0</td>\n",
              "      <td>0</td>\n",
              "      <td>0</td>\n",
              "      <td>0</td>\n",
              "      <td>0</td>\n",
              "      <td>0</td>\n",
              "      <td>0</td>\n",
              "      <td>0</td>\n",
              "      <td>0</td>\n",
              "      <td>0</td>\n",
              "      <td>0</td>\n",
              "      <td>0</td>\n",
              "      <td>1</td>\n",
              "      <td>0</td>\n",
              "      <td>0</td>\n",
              "      <td>0</td>\n",
              "      <td>0</td>\n",
              "      <td>0</td>\n",
              "      <td>0</td>\n",
              "      <td>0</td>\n",
              "      <td>0</td>\n",
              "      <td>0</td>\n",
              "      <td>0</td>\n",
              "      <td>0</td>\n",
              "      <td>1</td>\n",
              "      <td>0</td>\n",
              "      <td>0</td>\n",
              "      <td>0</td>\n",
              "      <td>0</td>\n",
              "      <td>0</td>\n",
              "      <td>0</td>\n",
              "      <td>0</td>\n",
              "      <td>0</td>\n",
              "      <td>0</td>\n",
              "      <td>0</td>\n",
              "      <td>0</td>\n",
              "    </tr>\n",
              "    <tr>\n",
              "      <th>6</th>\n",
              "      <td>18</td>\n",
              "      <td>11</td>\n",
              "      <td>4</td>\n",
              "      <td>0</td>\n",
              "      <td>1</td>\n",
              "      <td>0</td>\n",
              "      <td>0</td>\n",
              "      <td>0</td>\n",
              "      <td>0</td>\n",
              "      <td>0</td>\n",
              "      <td>0</td>\n",
              "      <td>0</td>\n",
              "      <td>0</td>\n",
              "      <td>0</td>\n",
              "      <td>0</td>\n",
              "      <td>0</td>\n",
              "      <td>0</td>\n",
              "      <td>0</td>\n",
              "      <td>0</td>\n",
              "      <td>0</td>\n",
              "      <td>0</td>\n",
              "      <td>0</td>\n",
              "      <td>0</td>\n",
              "      <td>0</td>\n",
              "      <td>0</td>\n",
              "      <td>0</td>\n",
              "      <td>0</td>\n",
              "      <td>0</td>\n",
              "      <td>0</td>\n",
              "      <td>0</td>\n",
              "      <td>0</td>\n",
              "      <td>0</td>\n",
              "      <td>0</td>\n",
              "      <td>0</td>\n",
              "      <td>0</td>\n",
              "      <td>0</td>\n",
              "      <td>0</td>\n",
              "      <td>0</td>\n",
              "      <td>0</td>\n",
              "      <td>0</td>\n",
              "      <td>0</td>\n",
              "      <td>0</td>\n",
              "      <td>0</td>\n",
              "      <td>0</td>\n",
              "      <td>0</td>\n",
              "      <td>0</td>\n",
              "      <td>0</td>\n",
              "      <td>0</td>\n",
              "      <td>0</td>\n",
              "      <td>0</td>\n",
              "      <td>1</td>\n",
              "      <td>0</td>\n",
              "      <td>0</td>\n",
              "      <td>0</td>\n",
              "      <td>1</td>\n",
              "      <td>0</td>\n",
              "      <td>0</td>\n",
              "      <td>0</td>\n",
              "      <td>0</td>\n",
              "      <td>0</td>\n",
              "      <td>0</td>\n",
              "      <td>0</td>\n",
              "      <td>0</td>\n",
              "      <td>0</td>\n",
              "      <td>0</td>\n",
              "      <td>0</td>\n",
              "      <td>0</td>\n",
              "      <td>0</td>\n",
              "      <td>0</td>\n",
              "    </tr>\n",
              "    <tr>\n",
              "      <th>11</th>\n",
              "      <td>18</td>\n",
              "      <td>9</td>\n",
              "      <td>20</td>\n",
              "      <td>0</td>\n",
              "      <td>1</td>\n",
              "      <td>0</td>\n",
              "      <td>0</td>\n",
              "      <td>0</td>\n",
              "      <td>0</td>\n",
              "      <td>0</td>\n",
              "      <td>0</td>\n",
              "      <td>0</td>\n",
              "      <td>0</td>\n",
              "      <td>0</td>\n",
              "      <td>0</td>\n",
              "      <td>0</td>\n",
              "      <td>0</td>\n",
              "      <td>0</td>\n",
              "      <td>0</td>\n",
              "      <td>0</td>\n",
              "      <td>0</td>\n",
              "      <td>0</td>\n",
              "      <td>0</td>\n",
              "      <td>0</td>\n",
              "      <td>0</td>\n",
              "      <td>0</td>\n",
              "      <td>0</td>\n",
              "      <td>0</td>\n",
              "      <td>0</td>\n",
              "      <td>0</td>\n",
              "      <td>0</td>\n",
              "      <td>0</td>\n",
              "      <td>0</td>\n",
              "      <td>0</td>\n",
              "      <td>0</td>\n",
              "      <td>0</td>\n",
              "      <td>0</td>\n",
              "      <td>0</td>\n",
              "      <td>0</td>\n",
              "      <td>0</td>\n",
              "      <td>0</td>\n",
              "      <td>0</td>\n",
              "      <td>0</td>\n",
              "      <td>0</td>\n",
              "      <td>0</td>\n",
              "      <td>0</td>\n",
              "      <td>0</td>\n",
              "      <td>0</td>\n",
              "      <td>0</td>\n",
              "      <td>0</td>\n",
              "      <td>0</td>\n",
              "      <td>0</td>\n",
              "      <td>1</td>\n",
              "      <td>0</td>\n",
              "      <td>0</td>\n",
              "      <td>0</td>\n",
              "      <td>0</td>\n",
              "      <td>0</td>\n",
              "      <td>0</td>\n",
              "      <td>0</td>\n",
              "      <td>0</td>\n",
              "      <td>0</td>\n",
              "      <td>0</td>\n",
              "      <td>0</td>\n",
              "      <td>0</td>\n",
              "      <td>0</td>\n",
              "      <td>0</td>\n",
              "      <td>0</td>\n",
              "      <td>1</td>\n",
              "    </tr>\n",
              "    <tr>\n",
              "      <th>22</th>\n",
              "      <td>36</td>\n",
              "      <td>4</td>\n",
              "      <td>3</td>\n",
              "      <td>0</td>\n",
              "      <td>1</td>\n",
              "      <td>0</td>\n",
              "      <td>0</td>\n",
              "      <td>0</td>\n",
              "      <td>0</td>\n",
              "      <td>0</td>\n",
              "      <td>0</td>\n",
              "      <td>0</td>\n",
              "      <td>0</td>\n",
              "      <td>0</td>\n",
              "      <td>0</td>\n",
              "      <td>0</td>\n",
              "      <td>0</td>\n",
              "      <td>0</td>\n",
              "      <td>0</td>\n",
              "      <td>0</td>\n",
              "      <td>0</td>\n",
              "      <td>0</td>\n",
              "      <td>0</td>\n",
              "      <td>0</td>\n",
              "      <td>0</td>\n",
              "      <td>0</td>\n",
              "      <td>0</td>\n",
              "      <td>0</td>\n",
              "      <td>0</td>\n",
              "      <td>0</td>\n",
              "      <td>0</td>\n",
              "      <td>0</td>\n",
              "      <td>0</td>\n",
              "      <td>0</td>\n",
              "      <td>0</td>\n",
              "      <td>0</td>\n",
              "      <td>0</td>\n",
              "      <td>0</td>\n",
              "      <td>0</td>\n",
              "      <td>0</td>\n",
              "      <td>0</td>\n",
              "      <td>0</td>\n",
              "      <td>0</td>\n",
              "      <td>0</td>\n",
              "      <td>0</td>\n",
              "      <td>1</td>\n",
              "      <td>0</td>\n",
              "      <td>0</td>\n",
              "      <td>0</td>\n",
              "      <td>0</td>\n",
              "      <td>0</td>\n",
              "      <td>0</td>\n",
              "      <td>0</td>\n",
              "      <td>0</td>\n",
              "      <td>0</td>\n",
              "      <td>0</td>\n",
              "      <td>0</td>\n",
              "      <td>1</td>\n",
              "      <td>0</td>\n",
              "      <td>0</td>\n",
              "      <td>0</td>\n",
              "      <td>0</td>\n",
              "      <td>0</td>\n",
              "      <td>0</td>\n",
              "      <td>0</td>\n",
              "      <td>0</td>\n",
              "      <td>0</td>\n",
              "      <td>0</td>\n",
              "      <td>0</td>\n",
              "    </tr>\n",
              "    <tr>\n",
              "      <th>23</th>\n",
              "      <td>36</td>\n",
              "      <td>2</td>\n",
              "      <td>2</td>\n",
              "      <td>0</td>\n",
              "      <td>1</td>\n",
              "      <td>0</td>\n",
              "      <td>0</td>\n",
              "      <td>0</td>\n",
              "      <td>0</td>\n",
              "      <td>0</td>\n",
              "      <td>0</td>\n",
              "      <td>0</td>\n",
              "      <td>0</td>\n",
              "      <td>0</td>\n",
              "      <td>0</td>\n",
              "      <td>0</td>\n",
              "      <td>0</td>\n",
              "      <td>0</td>\n",
              "      <td>0</td>\n",
              "      <td>0</td>\n",
              "      <td>0</td>\n",
              "      <td>0</td>\n",
              "      <td>0</td>\n",
              "      <td>0</td>\n",
              "      <td>0</td>\n",
              "      <td>0</td>\n",
              "      <td>0</td>\n",
              "      <td>0</td>\n",
              "      <td>0</td>\n",
              "      <td>0</td>\n",
              "      <td>0</td>\n",
              "      <td>0</td>\n",
              "      <td>0</td>\n",
              "      <td>0</td>\n",
              "      <td>0</td>\n",
              "      <td>0</td>\n",
              "      <td>0</td>\n",
              "      <td>0</td>\n",
              "      <td>0</td>\n",
              "      <td>0</td>\n",
              "      <td>0</td>\n",
              "      <td>0</td>\n",
              "      <td>0</td>\n",
              "      <td>0</td>\n",
              "      <td>0</td>\n",
              "      <td>1</td>\n",
              "      <td>0</td>\n",
              "      <td>0</td>\n",
              "      <td>0</td>\n",
              "      <td>0</td>\n",
              "      <td>0</td>\n",
              "      <td>0</td>\n",
              "      <td>0</td>\n",
              "      <td>0</td>\n",
              "      <td>1</td>\n",
              "      <td>0</td>\n",
              "      <td>0</td>\n",
              "      <td>0</td>\n",
              "      <td>0</td>\n",
              "      <td>0</td>\n",
              "      <td>0</td>\n",
              "      <td>0</td>\n",
              "      <td>0</td>\n",
              "      <td>0</td>\n",
              "      <td>0</td>\n",
              "      <td>0</td>\n",
              "      <td>0</td>\n",
              "      <td>0</td>\n",
              "      <td>0</td>\n",
              "    </tr>\n",
              "  </tbody>\n",
              "</table>\n",
              "</div>"
            ],
            "text/plain": [
              "    raceId  grid  positionOrder  ...  racer_STR  racer_VER  racer_VET\n",
              "0       18     1              1  ...          0          0          0\n",
              "6       18    11              4  ...          0          0          0\n",
              "11      18     9             20  ...          0          0          1\n",
              "22      36     4              3  ...          0          0          0\n",
              "23      36     2              2  ...          0          0          0\n",
              "\n",
              "[5 rows x 69 columns]"
            ]
          },
          "metadata": {
            "tags": []
          },
          "execution_count": 7
        }
      ]
    },
    {
      "cell_type": "code",
      "metadata": {
        "id": "vLyAX503qYNl"
      },
      "source": [
        "# Separamos el valor a predecir de las variables predictivas y los converitmos a numpy arrays\n",
        "import numpy as np\n",
        "labels = np.array(features['positionOrder']) \n",
        "features = features.drop('positionOrder', axis=1)\n",
        "feature_list = list(features.columns)\n",
        "features = np.array(features)"
      ],
      "execution_count": null,
      "outputs": []
    },
    {
      "cell_type": "code",
      "metadata": {
        "id": "4Zi4m6PHr-Ev"
      },
      "source": [
        "# Definimos los datos de entrenamiento y los datos de prueba\n",
        "from sklearn.model_selection import train_test_split\n",
        "train_features, test_features, train_labels, test_labels = train_test_split(features, labels, test_size = 0.25, random_state = 42)"
      ],
      "execution_count": null,
      "outputs": []
    },
    {
      "cell_type": "code",
      "metadata": {
        "colab": {
          "base_uri": "https://localhost:8080/"
        },
        "id": "-XEwaSxys9OU",
        "outputId": "0b593600-ef59-44de-e762-eb14afe5b96e"
      },
      "source": [
        "print('Training Features Shape:', train_features.shape)\n",
        "print('Training Labels Shape:', train_labels.shape)\n",
        "print('Testing Features Shape:', test_features.shape)\n",
        "print('Testing Labels Shape:', test_labels.shape)"
      ],
      "execution_count": null,
      "outputs": [
        {
          "output_type": "stream",
          "text": [
            "Training Features Shape: (1558, 68)\n",
            "Training Labels Shape: (1558,)\n",
            "Testing Features Shape: (520, 68)\n",
            "Testing Labels Shape: (520,)\n"
          ],
          "name": "stdout"
        }
      ]
    },
    {
      "cell_type": "code",
      "metadata": {
        "id": "Ngby-ax3tLhd"
      },
      "source": [
        "# Una vez que ya tenemos los datos en el formato que queremos y una vez definidos\n",
        "# los datos de prueba y de entrenamientos, podemos ajustar el modelo de bosques aleatorios.\n",
        "from sklearn.ensemble import RandomForestRegressor\n",
        "rf = RandomForestRegressor(n_estimators = 1000, random_state = 42)\n",
        "rf.fit(train_features, train_labels);"
      ],
      "execution_count": null,
      "outputs": []
    },
    {
      "cell_type": "code",
      "metadata": {
        "colab": {
          "base_uri": "https://localhost:8080/"
        },
        "id": "A-YwN8BZuqlp",
        "outputId": "5842c3e9-6417-4e24-c552-cbb27273725d"
      },
      "source": [
        "# Ahora podemos hacer predicciones con nuestro conjunto de prueba\n",
        "predictions_forest = rf.predict(test_features)\n",
        "\n",
        "# Calculamos el coeficiente de determinación para tener una medida de la precisión de nuestro algoritmo\n",
        "errors = abs(predictions_forest - test_labels)\n",
        "print(' Coeficiente de Determinación: ', np.corrcoef(predictions_forest, test_labels)[0,1])"
      ],
      "execution_count": null,
      "outputs": [
        {
          "output_type": "stream",
          "text": [
            "Error Medio Absoluto: 3.83 grados.\n",
            " Coeficiente de Determinación:  0.5649145420382921\n"
          ],
          "name": "stdout"
        }
      ]
    },
    {
      "cell_type": "markdown",
      "metadata": {
        "id": "yynYwEcI2X1e"
      },
      "source": [
        "### XG Boost"
      ]
    },
    {
      "cell_type": "code",
      "metadata": {
        "id": "eaz5uSfS2Zy1"
      },
      "source": [
        "import pandas as pd\n",
        "import xgboost as xgb\n",
        "from sklearn.datasets import load_boston\n",
        "from sklearn.model_selection import train_test_split\n",
        "from sklearn.metrics import mean_squared_error"
      ],
      "execution_count": null,
      "outputs": []
    },
    {
      "cell_type": "code",
      "metadata": {
        "id": "JzDsC1_D2_qA"
      },
      "source": [
        "regressor = xgb.XGBRegressor(\n",
        "    n_estimators=100,\n",
        "    reg_lambda=1,\n",
        "    gamma=0,\n",
        "    max_depth=3\n",
        ")"
      ],
      "execution_count": null,
      "outputs": []
    },
    {
      "cell_type": "code",
      "metadata": {
        "id": "0OUkH9uZ3w4u",
        "colab": {
          "base_uri": "https://localhost:8080/"
        },
        "outputId": "11ffb98e-df99-4d9f-d3f9-90a1807973dc"
      },
      "source": [
        "regressor.fit(train_features, train_labels)"
      ],
      "execution_count": null,
      "outputs": [
        {
          "output_type": "stream",
          "text": [
            "[02:42:01] WARNING: /workspace/src/objective/regression_obj.cu:152: reg:linear is now deprecated in favor of reg:squarederror.\n"
          ],
          "name": "stdout"
        },
        {
          "output_type": "execute_result",
          "data": {
            "text/plain": [
              "XGBRegressor(base_score=0.5, booster='gbtree', colsample_bylevel=1,\n",
              "             colsample_bynode=1, colsample_bytree=1, gamma=0,\n",
              "             importance_type='gain', learning_rate=0.1, max_delta_step=0,\n",
              "             max_depth=3, min_child_weight=1, missing=None, n_estimators=100,\n",
              "             n_jobs=1, nthread=None, objective='reg:linear', random_state=0,\n",
              "             reg_alpha=0, reg_lambda=1, scale_pos_weight=1, seed=None,\n",
              "             silent=None, subsample=1, verbosity=1)"
            ]
          },
          "metadata": {
            "tags": []
          },
          "execution_count": 15
        }
      ]
    },
    {
      "cell_type": "code",
      "metadata": {
        "colab": {
          "base_uri": "https://localhost:8080/"
        },
        "id": "MNGrGSI05pL0",
        "outputId": "deef8db4-efec-488c-eec4-0e15c37cfac8"
      },
      "source": [
        "# Ahora podemos hacer predicciones con nuestro conjunto de prueba\n",
        "predictions_xgboost = regressor.predict(test_features)\n",
        "\n",
        "# Calculamos el coeficiente de determinación para tener una medida de la precisión de nuestro algoritmo\n",
        "print(' Coeficiente de Determinación: ', np.corrcoef(predictions_xgboost, test_labels)[0,1])"
      ],
      "execution_count": null,
      "outputs": [
        {
          "output_type": "stream",
          "text": [
            " Coeficiente de Determinación:  0.6007152385990888\n"
          ],
          "name": "stdout"
        }
      ]
    },
    {
      "cell_type": "markdown",
      "metadata": {
        "id": "tahtJJrpSiWI"
      },
      "source": [
        "## Problemas de Optimización\n",
        "\n",
        "- Problema: Encontrar la ruta más corta de recorrer todos los circuitos en una temporada\n",
        "    - Algoritmos: Algoritmo genético."
      ]
    },
    {
      "cell_type": "markdown",
      "metadata": {
        "id": "6-4ynzURKort"
      },
      "source": [
        "### Cálculo de la Ruta Óptima\n",
        "Dadas todas las ciudades que van a ser visitadas en una temporada de la F1, ¿en qué orden deben de ser visitadas para minimizar la distancia y, por lo tanto, los costos de transporte? Para dar respuesta a esta pregunta vamos a programar un algoritmo genético desde cero y esperamos que el resultado obtenido sea un solución cercana a la ruta más corta posible."
      ]
    },
    {
      "cell_type": "code",
      "metadata": {
        "id": "FNJkMsOUy0Pf"
      },
      "source": [
        "import numpy as np, random, operator, pandas as pd, matplotlib.pyplot as plt\n",
        "import time"
      ],
      "execution_count": null,
      "outputs": []
    },
    {
      "cell_type": "markdown",
      "metadata": {
        "id": "qISnyj-uy0Ph"
      },
      "source": [
        "##### Creación de la clase ciudad y de la clase aptitud"
      ]
    },
    {
      "cell_type": "markdown",
      "metadata": {
        "id": "QxFeLo5_y0Pi"
      },
      "source": [
        "Creación de la clase ciudad:"
      ]
    },
    {
      "cell_type": "code",
      "metadata": {
        "id": "TAJHDFQhy0Pi"
      },
      "source": [
        "class Ciudad:\n",
        "    def __init__(self, x, y):\n",
        "        self.x = x\n",
        "        self.y = y\n",
        "    \n",
        "    def distancia(self, ciudad):\n",
        "        xDis = abs(self.x - ciudad.x)\n",
        "        yDis = abs(self.y - ciudad.y)\n",
        "        distancia = round(np.sqrt((xDis ** 2) + (yDis ** 2)))\n",
        "        return distancia\n",
        "    \n",
        "    def __repr__(self):\n",
        "        return \"(\" + str(self.x) + \",\" + str(self.y) + \")\""
      ],
      "execution_count": null,
      "outputs": []
    },
    {
      "cell_type": "markdown",
      "metadata": {
        "id": "apnPMzqWy0Pi"
      },
      "source": [
        "Creaciónd de la clase aptitud:"
      ]
    },
    {
      "cell_type": "code",
      "metadata": {
        "id": "y6vg1GAWy0Pi"
      },
      "source": [
        "class Aptitud:\n",
        "    def __init__(self, ruta):\n",
        "        self.ruta = ruta\n",
        "        self.distancia = 0\n",
        "        self.aptitud= 0.0\n",
        "    \n",
        "    def distanciaRuta(self):\n",
        "        if self.distancia ==0:\n",
        "            distanciaCamino = 0\n",
        "            for i in range(0, len(self.ruta)):\n",
        "                ciudad_Origen = self.ruta[i]\n",
        "                ciudad_Destino = None\n",
        "                if i + 1 < len(self.ruta):\n",
        "                    ciudad_Destino = self.ruta[i + 1]\n",
        "                else:\n",
        "                    ciudad_Destino = self.ruta[0]\n",
        "                distanciaCamino += ciudad_Origen.distancia(ciudad_Destino)\n",
        "            self.distancia = distanciaCamino\n",
        "        return self.distancia\n",
        "    \n",
        "    def aptitudRuta(self):\n",
        "        if self.aptitud == 0:\n",
        "            self.aptitud = 1 / float(self.distanciaRuta())\n",
        "        return self.aptitud"
      ],
      "execution_count": null,
      "outputs": []
    },
    {
      "cell_type": "markdown",
      "metadata": {
        "id": "GsQsgRlty0Pi"
      },
      "source": [
        "##### Creación de la población inicial\n"
      ]
    },
    {
      "cell_type": "markdown",
      "metadata": {
        "id": "CgvpOdJPy0Pi"
      },
      "source": [
        "Función que genera una ruta de manera aleatoria:"
      ]
    },
    {
      "cell_type": "code",
      "metadata": {
        "id": "XqpbxFLcy0Pi"
      },
      "source": [
        "def creaRuta(listaCiudades):\n",
        "    ruta = random.sample(listaCiudades, len(listaCiudades))\n",
        "    return ruta"
      ],
      "execution_count": null,
      "outputs": []
    },
    {
      "cell_type": "markdown",
      "metadata": {
        "id": "aUiBdwdPy0Pi"
      },
      "source": [
        "Creación de la población inicial:"
      ]
    },
    {
      "cell_type": "code",
      "metadata": {
        "id": "tYkdQmfiy0Pj"
      },
      "source": [
        "def poblacionInicial(pobTam, listaCiudades):\n",
        "    poblacion = []\n",
        "\n",
        "    for i in range(0, pobTam):\n",
        "        poblacion.append(creaRuta(listaCiudades))\n",
        "    return poblacion"
      ],
      "execution_count": null,
      "outputs": []
    },
    {
      "cell_type": "markdown",
      "metadata": {
        "id": "VNi75U3oy0Pj"
      },
      "source": [
        "##### Para definir el algoritmo genético"
      ]
    },
    {
      "cell_type": "markdown",
      "metadata": {
        "id": "AJ9qXcbhy0Pj"
      },
      "source": [
        "Función que ordena un conjunto de rutas de acuerdo a su puntaje de aptitud"
      ]
    },
    {
      "cell_type": "code",
      "metadata": {
        "id": "hL5GN7Cpy0Pj"
      },
      "source": [
        "def rankRutas(poblacion):\n",
        "    califAptitudes = {}\n",
        "    for i in range(0,len(poblacion)):\n",
        "        califAptitudes[i] = Aptitud(poblacion[i]).aptitudRuta()\n",
        "    return sorted(califAptitudes.items(), key = operator.itemgetter(1), reverse = True)"
      ],
      "execution_count": null,
      "outputs": []
    },
    {
      "cell_type": "markdown",
      "metadata": {
        "id": "WLgoWsfUy0Pk"
      },
      "source": [
        "Función que selecciona a un subconjunto de rutas asignando una mayor probabilidad de selección a aquelllas rutas con un mejor punutaje de aptitud"
      ]
    },
    {
      "cell_type": "code",
      "metadata": {
        "id": "4jGtlMfMy0Pk"
      },
      "source": [
        "def seleccion(pobRank, n_elite):\n",
        "    seleccionFinal = []\n",
        "    df = pd.DataFrame(np.array(pobRank), columns=[\"Indice\",\"Aptitud\"])\n",
        "    df['cum_sum'] = df.Aptitud.cumsum()\n",
        "    df['cum_perc'] = 100*df.cum_sum/df.Aptitud.sum()\n",
        "    \n",
        "    for i in range(0, n_elite):\n",
        "        seleccionFinal.append(pobRank[i][0])\n",
        "    for i in range(0, len(pobRank) - n_elite):\n",
        "        aux = 100*random.random()\n",
        "        for i in range(0, len(pobRank)):\n",
        "            if aux <= df.iat[i,3]:\n",
        "                seleccionFinal.append(pobRank[i][0])\n",
        "                break\n",
        "    return seleccionFinal"
      ],
      "execution_count": null,
      "outputs": []
    },
    {
      "cell_type": "markdown",
      "metadata": {
        "id": "JAyNEva1y0Pk"
      },
      "source": [
        "Creación de acervo de apareamiento"
      ]
    },
    {
      "cell_type": "code",
      "metadata": {
        "id": "xlUmuA-Ry0Pk"
      },
      "source": [
        "def acervoAparear(poblacion, seleccionFinal):\n",
        "    acervo_aparear = []\n",
        "    for i in range(0, len(seleccionFinal)):\n",
        "        indice = seleccionFinal[i]\n",
        "        acervo_aparear.append(poblacion[indice])\n",
        "    return acervo_aparear"
      ],
      "execution_count": null,
      "outputs": []
    },
    {
      "cell_type": "markdown",
      "metadata": {
        "id": "zzLHDZv2y0Pk"
      },
      "source": [
        "Definimos una función de apareamiento que mezcla la información de dos rutas para generar a una ruta \"hija\""
      ]
    },
    {
      "cell_type": "code",
      "metadata": {
        "id": "vH1H-kf8y0Pk"
      },
      "source": [
        "def cruza(padre1, padre2):\n",
        "    hijo = []\n",
        "    hijoP1 = []\n",
        "    hijoP2 = []\n",
        "    \n",
        "    genA = int(random.random() * len(padre1))\n",
        "    genB = int(random.random() * len(padre1))\n",
        "    \n",
        "    genInicial = min(genA, genB)\n",
        "    genFinal = max(genA, genB)\n",
        "\n",
        "    for i in range(genInicial, genFinal):\n",
        "        hijoP1.append(padre1[i])\n",
        "        \n",
        "    hijoP2 = [item for item in padre2 if item not in hijoP1]\n",
        "\n",
        "    hijo = hijoP1 + hijoP2\n",
        "    return hijo"
      ],
      "execution_count": null,
      "outputs": []
    },
    {
      "cell_type": "markdown",
      "metadata": {
        "id": "z0nxExrCy0Pl"
      },
      "source": [
        "Aplicamos nuestra función \"cruzar\" a nuestro acervo de apareamiento"
      ]
    },
    {
      "cell_type": "code",
      "metadata": {
        "id": "URs5nhW1y0Pl"
      },
      "source": [
        "def apareaPoblacion(acervo_aparear, n_elite):\n",
        "    hijos = []\n",
        "    longitud = len(acervo_aparear) - n_elite\n",
        "    acervo = random.sample(acervo_aparear, len(acervo_aparear))\n",
        "\n",
        "    for i in range(0,n_elite):\n",
        "        hijos.append(acervo_aparear[i])\n",
        "    \n",
        "    for i in range(0, longitud):\n",
        "        hijo = cruza(acervo[i], acervo[len(acervo_aparear)-i-1])\n",
        "        hijos.append(hijo)\n",
        "    return hijos"
      ],
      "execution_count": null,
      "outputs": []
    },
    {
      "cell_type": "markdown",
      "metadata": {
        "id": "sJOTiK62y0Pl"
      },
      "source": [
        "Definimos la función de mutación para una ruta"
      ]
    },
    {
      "cell_type": "code",
      "metadata": {
        "id": "dN6doN9my0Pl"
      },
      "source": [
        "def mutar(individuo, probaMutar):\n",
        "    for swapped in range(len(individuo)):\n",
        "        if(random.random() < probaMutar):\n",
        "            swapWith = int(random.random() * len(individuo))\n",
        "            \n",
        "            ciudad1 = individuo[swapped]\n",
        "            ciudad2 = individuo[swapWith]\n",
        "            \n",
        "            individuo[swapped] = ciudad2\n",
        "            individuo[swapWith] = ciudad1\n",
        "    return individuo"
      ],
      "execution_count": null,
      "outputs": []
    },
    {
      "cell_type": "markdown",
      "metadata": {
        "id": "a8M75704y0Pm"
      },
      "source": [
        "Corremos la función de mutación sobre toda la población"
      ]
    },
    {
      "cell_type": "code",
      "metadata": {
        "id": "nt33vJ20y0Pm"
      },
      "source": [
        "def mutaPoblacion(poblacion, probaMutar):\n",
        "    poblacionMutada = []\n",
        "    \n",
        "    for ind in range(0, len(poblacion)):\n",
        "        indMutados = mutar(poblacion[ind], probaMutar)\n",
        "        poblacionMutada.append(indMutados)\n",
        "    return poblacionMutada"
      ],
      "execution_count": null,
      "outputs": []
    },
    {
      "cell_type": "markdown",
      "metadata": {
        "id": "KNQZWT4xy0Pm"
      },
      "source": [
        "Juntamos todos los pasos anteriores para producir la siguiente generación"
      ]
    },
    {
      "cell_type": "code",
      "metadata": {
        "id": "eoVWw2h5y0Pm"
      },
      "source": [
        "def proximaGeneracion(actualGeneracion, n_elite, probaMutar):\n",
        "    pobRank = rankRutas(actualGeneracion)\n",
        "    seleccionFinal = seleccion(pobRank, n_elite)\n",
        "    acervo_aparear = acervoAparear(actualGeneracion, seleccionFinal)\n",
        "    hijos = apareaPoblacion(acervo_aparear, n_elite)\n",
        "    proximaGeneracion = mutaPoblacion(hijos, probaMutar)\n",
        "    return proximaGeneracion"
      ],
      "execution_count": null,
      "outputs": []
    },
    {
      "cell_type": "markdown",
      "metadata": {
        "id": "hb5KbEPJy0Pm"
      },
      "source": [
        "Ahora la único que nos falta es la definicón del algoritmo genético"
      ]
    },
    {
      "cell_type": "code",
      "metadata": {
        "id": "hhaBernDy0Pm"
      },
      "source": [
        "def algoritmoGenetico(poblacion, pobTam, n_elite, probaMutar, generaciones):\n",
        "    pob = poblacionInicial(pobTam, poblacion)\n",
        "    print(\"Distancia inicial: \" + str(1 / rankRutas(pob)[0][1]))\n",
        "    \n",
        "    for i in range(0, generaciones):\n",
        "        pob = proximaGeneracion(pob, n_elite, probaMutar)\n",
        "    \n",
        "    print(\"Distancia final: \" + str(1 / rankRutas(pob)[0][1]))\n",
        "    llaveMejorRuta = rankRutas(pob)[0][0]\n",
        "    mejorRuta = pob[llaveMejorRuta]\n",
        "    return mejorRuta"
      ],
      "execution_count": null,
      "outputs": []
    },
    {
      "cell_type": "markdown",
      "metadata": {
        "id": "tP-ZMmSXy0Pm"
      },
      "source": [
        "##### Corremos el código"
      ]
    },
    {
      "cell_type": "markdown",
      "metadata": {
        "id": "M2u7xrzxy0Pm"
      },
      "source": [
        "Creamos la lista de ciudades importando los datos del archivo csv"
      ]
    },
    {
      "cell_type": "code",
      "metadata": {
        "colab": {
          "base_uri": "https://localhost:8080/"
        },
        "id": "2p8HYLaozSHz",
        "outputId": "3c9fdb50-9513-4705-ce60-b4ea83456ca0"
      },
      "source": [
        "data = pd.read_csv('https://raw.githubusercontent.com/AreYouRuben/DS_Team24/main/Machine-Learning-Santander/is_Podium/circuits.txt', sep=\" \", header=None)#, dtype = 'float')\n",
        "data.columns = [\"Número\", \"Longitud\", \"Latitud\"]\n",
        "print(data.head())\n",
        "#data = data.drop(['Número'], axis=1)\n",
        "listaCiudades = []\n",
        "\n",
        "for k in range(len(data)):\n",
        "    listaCiudades.append(Ciudad(x = data.iat[k,1], y = data.iat[k,2]))"
      ],
      "execution_count": null,
      "outputs": [
        {
          "output_type": "stream",
          "text": [
            "   Número  Longitud   Latitud\n",
            "0       1   26.0325  50.51060\n",
            "1       2   44.3439  11.71670\n",
            "2       3   37.2270  -8.62670\n",
            "3       4   41.5700   2.26111\n",
            "4       5   43.7347   7.42056\n"
          ],
          "name": "stdout"
        }
      ]
    },
    {
      "cell_type": "code",
      "metadata": {
        "colab": {
          "base_uri": "https://localhost:8080/",
          "height": 35
        },
        "id": "sUyCKxKsy0Pm",
        "outputId": "94e7d07f-4526-47fd-884e-9b5098350b0b"
      },
      "source": [
        "'''\n",
        "cityList = []\n",
        "\n",
        "for i in range(0,25):\n",
        "    cityList.append(City(x=int(random.random() * 200), y=int(random.random() * 200)))\n",
        "'''"
      ],
      "execution_count": null,
      "outputs": [
        {
          "output_type": "execute_result",
          "data": {
            "application/vnd.google.colaboratory.intrinsic+json": {
              "type": "string"
            },
            "text/plain": [
              "'\\ncityList = []\\n\\nfor i in range(0,25):\\n    cityList.append(City(x=int(random.random() * 200), y=int(random.random() * 200)))\\n'"
            ]
          },
          "metadata": {
            "tags": []
          },
          "execution_count": 75
        }
      ]
    },
    {
      "cell_type": "markdown",
      "metadata": {
        "id": "4PJWVJYty0Pm"
      },
      "source": [
        "Corremos la función algoritmoGenetico"
      ]
    },
    {
      "cell_type": "code",
      "metadata": {
        "colab": {
          "base_uri": "https://localhost:8080/",
          "height": 279
        },
        "id": "hEqCu0B0y0Pm",
        "outputId": "b4fd2f2f-d949-455b-a692-98d7fb70775c"
      },
      "source": [
        "#start_time = time.time()\n",
        "algoritmoGenetico(poblacion=listaCiudades, pobTam=50, n_elite=5, probaMutar=0.001, generaciones = 1000)\n",
        "#print(time.time() - start_time)"
      ],
      "execution_count": null,
      "outputs": [
        {
          "output_type": "display_data",
          "data": {
            "image/png": "[encoded data removed]",
            "text/plain": [
              "<Figure size 432x288 with 1 Axes>"
            ]
          },
          "metadata": {
            "tags": [],
            "needs_background": "light"
          }
        }
      ]
    },
    {
      "cell_type": "markdown",
      "metadata": {
        "id": "1XYdPn3wy0Pq"
      },
      "source": [
        "##### Graficamos el progreso obtenido en cada generación"
      ]
    },
    {
      "cell_type": "markdown",
      "metadata": {
        "id": "iZPUqbEBy0Pq"
      },
      "source": [
        "NOTA IMPORTANTE: Aquí se corre de nuevo el algoritmo genético"
      ]
    },
    {
      "cell_type": "code",
      "metadata": {
        "id": "llITtoQpy0Pq"
      },
      "source": [
        "def algoritmoGenetico(poblacion, pobTam, n_elite, probaMutar, generaciones):\n",
        "    pob = poblacionInicial(pobTam, poblacion)\n",
        "    progreso = []\n",
        "    progreso.append(1 / rankRutas(pob)[0][1])\n",
        "    \n",
        "    for i in range(0, generaciones):\n",
        "        pob = proximaGeneracion(pob, n_elite, probaMutar)\n",
        "        progreso.append(1 / rankRutas(pob)[0][1])\n",
        "    \n",
        "    plt.plot(progreso)\n",
        "    plt.ylabel('Distancia')\n",
        "    plt.xlabel('Generacion')\n",
        "    plt.show()"
      ],
      "execution_count": null,
      "outputs": []
    },
    {
      "cell_type": "markdown",
      "metadata": {
        "id": "TfxDFE3Ky0Pr"
      },
      "source": [
        "Para ver la mejora en la distancia total depués de cada generación"
      ]
    },
    {
      "cell_type": "code",
      "metadata": {
        "colab": {
          "base_uri": "https://localhost:8080/",
          "height": 303
        },
        "id": "V2iK_Mepy0Pr",
        "outputId": "febb292b-77e6-4505-b9d0-d52a6b7a645b"
      },
      "source": [
        "algoritmoGenetico(poblacion=listaCiudades, pobTam=150, n_elite=50, probaMutar=0.0001, generaciones = 10000)"
      ],
      "execution_count": null,
      "outputs": [
        {
          "output_type": "error",
          "ename": "KeyboardInterrupt",
          "evalue": "ignored",
          "traceback": [
            "\u001b[0;31m---------------------------------------------------------------------------\u001b[0m",
            "\u001b[0;31mKeyboardInterrupt\u001b[0m                         Traceback (most recent call last)",
            "\u001b[0;32m<ipython-input-78-f0cbfa29cfde>\u001b[0m in \u001b[0;36m<module>\u001b[0;34m()\u001b[0m\n\u001b[0;32m----> 1\u001b[0;31m \u001b[0malgoritmoGenetico\u001b[0m\u001b[0;34m(\u001b[0m\u001b[0mpoblacion\u001b[0m\u001b[0;34m=\u001b[0m\u001b[0mlistaCiudades\u001b[0m\u001b[0;34m,\u001b[0m \u001b[0mpobTam\u001b[0m\u001b[0;34m=\u001b[0m\u001b[0;36m150\u001b[0m\u001b[0;34m,\u001b[0m \u001b[0mn_elite\u001b[0m\u001b[0;34m=\u001b[0m\u001b[0;36m50\u001b[0m\u001b[0;34m,\u001b[0m \u001b[0mprobaMutar\u001b[0m\u001b[0;34m=\u001b[0m\u001b[0;36m0.0001\u001b[0m\u001b[0;34m,\u001b[0m \u001b[0mgeneraciones\u001b[0m \u001b[0;34m=\u001b[0m \u001b[0;36m10000\u001b[0m\u001b[0;34m)\u001b[0m\u001b[0;34m\u001b[0m\u001b[0;34m\u001b[0m\u001b[0m\n\u001b[0m",
            "\u001b[0;32m<ipython-input-77-3e37aced74ea>\u001b[0m in \u001b[0;36malgoritmoGenetico\u001b[0;34m(poblacion, pobTam, n_elite, probaMutar, generaciones)\u001b[0m\n\u001b[1;32m      5\u001b[0m \u001b[0;34m\u001b[0m\u001b[0m\n\u001b[1;32m      6\u001b[0m     \u001b[0;32mfor\u001b[0m \u001b[0mi\u001b[0m \u001b[0;32min\u001b[0m \u001b[0mrange\u001b[0m\u001b[0;34m(\u001b[0m\u001b[0;36m0\u001b[0m\u001b[0;34m,\u001b[0m \u001b[0mgeneraciones\u001b[0m\u001b[0;34m)\u001b[0m\u001b[0;34m:\u001b[0m\u001b[0;34m\u001b[0m\u001b[0;34m\u001b[0m\u001b[0m\n\u001b[0;32m----> 7\u001b[0;31m         \u001b[0mpob\u001b[0m \u001b[0;34m=\u001b[0m \u001b[0mproximaGeneracion\u001b[0m\u001b[0;34m(\u001b[0m\u001b[0mpob\u001b[0m\u001b[0;34m,\u001b[0m \u001b[0mn_elite\u001b[0m\u001b[0;34m,\u001b[0m \u001b[0mprobaMutar\u001b[0m\u001b[0;34m)\u001b[0m\u001b[0;34m\u001b[0m\u001b[0;34m\u001b[0m\u001b[0m\n\u001b[0m\u001b[1;32m      8\u001b[0m         \u001b[0mprogreso\u001b[0m\u001b[0;34m.\u001b[0m\u001b[0mappend\u001b[0m\u001b[0;34m(\u001b[0m\u001b[0;36m1\u001b[0m \u001b[0;34m/\u001b[0m \u001b[0mrankRutas\u001b[0m\u001b[0;34m(\u001b[0m\u001b[0mpob\u001b[0m\u001b[0;34m)\u001b[0m\u001b[0;34m[\u001b[0m\u001b[0;36m0\u001b[0m\u001b[0;34m]\u001b[0m\u001b[0;34m[\u001b[0m\u001b[0;36m1\u001b[0m\u001b[0;34m]\u001b[0m\u001b[0;34m)\u001b[0m\u001b[0;34m\u001b[0m\u001b[0;34m\u001b[0m\u001b[0m\n\u001b[1;32m      9\u001b[0m \u001b[0;34m\u001b[0m\u001b[0m\n",
            "\u001b[0;32m<ipython-input-71-aea868a1baf4>\u001b[0m in \u001b[0;36mproximaGeneracion\u001b[0;34m(actualGeneracion, n_elite, probaMutar)\u001b[0m\n\u001b[1;32m      1\u001b[0m \u001b[0;32mdef\u001b[0m \u001b[0mproximaGeneracion\u001b[0m\u001b[0;34m(\u001b[0m\u001b[0mactualGeneracion\u001b[0m\u001b[0;34m,\u001b[0m \u001b[0mn_elite\u001b[0m\u001b[0;34m,\u001b[0m \u001b[0mprobaMutar\u001b[0m\u001b[0;34m)\u001b[0m\u001b[0;34m:\u001b[0m\u001b[0;34m\u001b[0m\u001b[0;34m\u001b[0m\u001b[0m\n\u001b[1;32m      2\u001b[0m     \u001b[0mpobRank\u001b[0m \u001b[0;34m=\u001b[0m \u001b[0mrankRutas\u001b[0m\u001b[0;34m(\u001b[0m\u001b[0mactualGeneracion\u001b[0m\u001b[0;34m)\u001b[0m\u001b[0;34m\u001b[0m\u001b[0;34m\u001b[0m\u001b[0m\n\u001b[0;32m----> 3\u001b[0;31m     \u001b[0mseleccionFinal\u001b[0m \u001b[0;34m=\u001b[0m \u001b[0mseleccion\u001b[0m\u001b[0;34m(\u001b[0m\u001b[0mpobRank\u001b[0m\u001b[0;34m,\u001b[0m \u001b[0mn_elite\u001b[0m\u001b[0;34m)\u001b[0m\u001b[0;34m\u001b[0m\u001b[0;34m\u001b[0m\u001b[0m\n\u001b[0m\u001b[1;32m      4\u001b[0m     \u001b[0macervo_aparear\u001b[0m \u001b[0;34m=\u001b[0m \u001b[0macervoAparear\u001b[0m\u001b[0;34m(\u001b[0m\u001b[0mactualGeneracion\u001b[0m\u001b[0;34m,\u001b[0m \u001b[0mseleccionFinal\u001b[0m\u001b[0;34m)\u001b[0m\u001b[0;34m\u001b[0m\u001b[0;34m\u001b[0m\u001b[0m\n\u001b[1;32m      5\u001b[0m     \u001b[0mhijos\u001b[0m \u001b[0;34m=\u001b[0m \u001b[0mapareaPoblacion\u001b[0m\u001b[0;34m(\u001b[0m\u001b[0macervo_aparear\u001b[0m\u001b[0;34m,\u001b[0m \u001b[0mn_elite\u001b[0m\u001b[0;34m)\u001b[0m\u001b[0;34m\u001b[0m\u001b[0;34m\u001b[0m\u001b[0m\n",
            "\u001b[0;32m<ipython-input-65-3bcd429a7df5>\u001b[0m in \u001b[0;36mseleccion\u001b[0;34m(pobRank, n_elite)\u001b[0m\n\u001b[1;32m     10\u001b[0m         \u001b[0maux\u001b[0m \u001b[0;34m=\u001b[0m \u001b[0;36m100\u001b[0m\u001b[0;34m*\u001b[0m\u001b[0mrandom\u001b[0m\u001b[0;34m.\u001b[0m\u001b[0mrandom\u001b[0m\u001b[0;34m(\u001b[0m\u001b[0;34m)\u001b[0m\u001b[0;34m\u001b[0m\u001b[0;34m\u001b[0m\u001b[0m\n\u001b[1;32m     11\u001b[0m         \u001b[0;32mfor\u001b[0m \u001b[0mi\u001b[0m \u001b[0;32min\u001b[0m \u001b[0mrange\u001b[0m\u001b[0;34m(\u001b[0m\u001b[0;36m0\u001b[0m\u001b[0;34m,\u001b[0m \u001b[0mlen\u001b[0m\u001b[0;34m(\u001b[0m\u001b[0mpobRank\u001b[0m\u001b[0;34m)\u001b[0m\u001b[0;34m)\u001b[0m\u001b[0;34m:\u001b[0m\u001b[0;34m\u001b[0m\u001b[0;34m\u001b[0m\u001b[0m\n\u001b[0;32m---> 12\u001b[0;31m             \u001b[0;32mif\u001b[0m \u001b[0maux\u001b[0m \u001b[0;34m<=\u001b[0m \u001b[0mdf\u001b[0m\u001b[0;34m.\u001b[0m\u001b[0miat\u001b[0m\u001b[0;34m[\u001b[0m\u001b[0mi\u001b[0m\u001b[0;34m,\u001b[0m\u001b[0;36m3\u001b[0m\u001b[0;34m]\u001b[0m\u001b[0;34m:\u001b[0m\u001b[0;34m\u001b[0m\u001b[0;34m\u001b[0m\u001b[0m\n\u001b[0m\u001b[1;32m     13\u001b[0m                 \u001b[0mseleccionFinal\u001b[0m\u001b[0;34m.\u001b[0m\u001b[0mappend\u001b[0m\u001b[0;34m(\u001b[0m\u001b[0mpobRank\u001b[0m\u001b[0;34m[\u001b[0m\u001b[0mi\u001b[0m\u001b[0;34m]\u001b[0m\u001b[0;34m[\u001b[0m\u001b[0;36m0\u001b[0m\u001b[0;34m]\u001b[0m\u001b[0;34m)\u001b[0m\u001b[0;34m\u001b[0m\u001b[0;34m\u001b[0m\u001b[0m\n\u001b[1;32m     14\u001b[0m                 \u001b[0;32mbreak\u001b[0m\u001b[0;34m\u001b[0m\u001b[0;34m\u001b[0m\u001b[0m\n",
            "\u001b[0;32m/usr/local/lib/python3.7/dist-packages/pandas/core/indexing.py\u001b[0m in \u001b[0;36m__getitem__\u001b[0;34m(self, key)\u001b[0m\n\u001b[1;32m   2023\u001b[0m \u001b[0;34m\u001b[0m\u001b[0m\n\u001b[1;32m   2024\u001b[0m         \u001b[0mkey\u001b[0m \u001b[0;34m=\u001b[0m \u001b[0mself\u001b[0m\u001b[0;34m.\u001b[0m\u001b[0m_convert_key\u001b[0m\u001b[0;34m(\u001b[0m\u001b[0mkey\u001b[0m\u001b[0;34m)\u001b[0m\u001b[0;34m\u001b[0m\u001b[0;34m\u001b[0m\u001b[0m\n\u001b[0;32m-> 2025\u001b[0;31m         \u001b[0;32mreturn\u001b[0m \u001b[0mself\u001b[0m\u001b[0;34m.\u001b[0m\u001b[0mobj\u001b[0m\u001b[0;34m.\u001b[0m\u001b[0m_get_value\u001b[0m\u001b[0;34m(\u001b[0m\u001b[0;34m*\u001b[0m\u001b[0mkey\u001b[0m\u001b[0;34m,\u001b[0m \u001b[0mtakeable\u001b[0m\u001b[0;34m=\u001b[0m\u001b[0mself\u001b[0m\u001b[0;34m.\u001b[0m\u001b[0m_takeable\u001b[0m\u001b[0;34m)\u001b[0m\u001b[0;34m\u001b[0m\u001b[0;34m\u001b[0m\u001b[0m\n\u001b[0m\u001b[1;32m   2026\u001b[0m \u001b[0;34m\u001b[0m\u001b[0m\n\u001b[1;32m   2027\u001b[0m     \u001b[0;32mdef\u001b[0m \u001b[0m__setitem__\u001b[0m\u001b[0;34m(\u001b[0m\u001b[0mself\u001b[0m\u001b[0;34m,\u001b[0m \u001b[0mkey\u001b[0m\u001b[0;34m,\u001b[0m \u001b[0mvalue\u001b[0m\u001b[0;34m)\u001b[0m\u001b[0;34m:\u001b[0m\u001b[0;34m\u001b[0m\u001b[0;34m\u001b[0m\u001b[0m\n",
            "\u001b[0;32m/usr/local/lib/python3.7/dist-packages/pandas/core/frame.py\u001b[0m in \u001b[0;36m_get_value\u001b[0;34m(self, index, col, takeable)\u001b[0m\n\u001b[1;32m   3005\u001b[0m         \"\"\"\n\u001b[1;32m   3006\u001b[0m         \u001b[0;32mif\u001b[0m \u001b[0mtakeable\u001b[0m\u001b[0;34m:\u001b[0m\u001b[0;34m\u001b[0m\u001b[0;34m\u001b[0m\u001b[0m\n\u001b[0;32m-> 3007\u001b[0;31m             \u001b[0mseries\u001b[0m \u001b[0;34m=\u001b[0m \u001b[0mself\u001b[0m\u001b[0;34m.\u001b[0m\u001b[0m_ixs\u001b[0m\u001b[0;34m(\u001b[0m\u001b[0mcol\u001b[0m\u001b[0;34m,\u001b[0m \u001b[0maxis\u001b[0m\u001b[0;34m=\u001b[0m\u001b[0;36m1\u001b[0m\u001b[0;34m)\u001b[0m\u001b[0;34m\u001b[0m\u001b[0;34m\u001b[0m\u001b[0m\n\u001b[0m\u001b[1;32m   3008\u001b[0m             \u001b[0;32mreturn\u001b[0m \u001b[0mseries\u001b[0m\u001b[0;34m.\u001b[0m\u001b[0m_values\u001b[0m\u001b[0;34m[\u001b[0m\u001b[0mindex\u001b[0m\u001b[0;34m]\u001b[0m\u001b[0;34m\u001b[0m\u001b[0;34m\u001b[0m\u001b[0m\n\u001b[1;32m   3009\u001b[0m \u001b[0;34m\u001b[0m\u001b[0m\n",
            "\u001b[0;32m/usr/local/lib/python3.7/dist-packages/pandas/core/frame.py\u001b[0m in \u001b[0;36m_ixs\u001b[0;34m(self, i, axis)\u001b[0m\n\u001b[1;32m   2844\u001b[0m             \u001b[0mlabel\u001b[0m \u001b[0;34m=\u001b[0m \u001b[0mself\u001b[0m\u001b[0;34m.\u001b[0m\u001b[0mcolumns\u001b[0m\u001b[0;34m[\u001b[0m\u001b[0mi\u001b[0m\u001b[0;34m]\u001b[0m\u001b[0;34m\u001b[0m\u001b[0;34m\u001b[0m\u001b[0m\n\u001b[1;32m   2845\u001b[0m \u001b[0;34m\u001b[0m\u001b[0m\n\u001b[0;32m-> 2846\u001b[0;31m             \u001b[0mvalues\u001b[0m \u001b[0;34m=\u001b[0m \u001b[0mself\u001b[0m\u001b[0;34m.\u001b[0m\u001b[0m_mgr\u001b[0m\u001b[0;34m.\u001b[0m\u001b[0miget\u001b[0m\u001b[0;34m(\u001b[0m\u001b[0mi\u001b[0m\u001b[0;34m)\u001b[0m\u001b[0;34m\u001b[0m\u001b[0;34m\u001b[0m\u001b[0m\n\u001b[0m\u001b[1;32m   2847\u001b[0m             \u001b[0mresult\u001b[0m \u001b[0;34m=\u001b[0m \u001b[0mself\u001b[0m\u001b[0;34m.\u001b[0m\u001b[0m_box_col_values\u001b[0m\u001b[0;34m(\u001b[0m\u001b[0mvalues\u001b[0m\u001b[0;34m,\u001b[0m \u001b[0mi\u001b[0m\u001b[0;34m)\u001b[0m\u001b[0;34m\u001b[0m\u001b[0;34m\u001b[0m\u001b[0m\n\u001b[1;32m   2848\u001b[0m \u001b[0;34m\u001b[0m\u001b[0m\n",
            "\u001b[0;32m/usr/local/lib/python3.7/dist-packages/pandas/core/internals/managers.py\u001b[0m in \u001b[0;36miget\u001b[0;34m(self, i)\u001b[0m\n\u001b[1;32m   1000\u001b[0m         \u001b[0;31m# shortcut for select a single-dim from a 2-dim BM\u001b[0m\u001b[0;34m\u001b[0m\u001b[0;34m\u001b[0m\u001b[0;34m\u001b[0m\u001b[0m\n\u001b[1;32m   1001\u001b[0m         return SingleBlockManager(\n\u001b[0;32m-> 1002\u001b[0;31m             block.make_block_same_class(\n\u001b[0m\u001b[1;32m   1003\u001b[0m                 \u001b[0mvalues\u001b[0m\u001b[0;34m,\u001b[0m \u001b[0mplacement\u001b[0m\u001b[0;34m=\u001b[0m\u001b[0mslice\u001b[0m\u001b[0;34m(\u001b[0m\u001b[0;36m0\u001b[0m\u001b[0;34m,\u001b[0m \u001b[0mlen\u001b[0m\u001b[0;34m(\u001b[0m\u001b[0mvalues\u001b[0m\u001b[0;34m)\u001b[0m\u001b[0;34m)\u001b[0m\u001b[0;34m,\u001b[0m \u001b[0mndim\u001b[0m\u001b[0;34m=\u001b[0m\u001b[0;36m1\u001b[0m\u001b[0;34m\u001b[0m\u001b[0;34m\u001b[0m\u001b[0m\n\u001b[1;32m   1004\u001b[0m             ),\n",
            "\u001b[0;31mKeyboardInterrupt\u001b[0m: "
          ]
        }
      ]
    },
    {
      "cell_type": "markdown",
      "metadata": {
        "id": "CIiT5LajM5Ki"
      },
      "source": [
        "## Problemas de agrupamiento"
      ]
    },
    {
      "cell_type": "code",
      "metadata": {
        "id": "qPR2T1C5E75S"
      },
      "source": [
        "\"\"\"\n",
        "MLUtilities.py\n",
        "\"\"\"\n",
        "## Distancia eucilidiana:\n",
        "def distEuclidiana(muestra, dataset):\n",
        "    distancias = np.zeros((dataset.shape[0],1))\n",
        "    for counter in range(0,dataset.shape[0]):\n",
        "        distancias[counter] = np.linalg.norm(muestra-dataset[counter])\n",
        "    return distancias\n",
        "\n",
        "def centroideCercano(muestra, listaCentroides):\n",
        "    listaDistancias = distEuclidiana(muestra, listaCentroides)\n",
        "    centroideCercano = np.argmin(listaDistancias)\n",
        "    return centroideCercano\n",
        "\n",
        "def clasificarPorCentroides(muestras, centroides):\n",
        "    resultado = np.zeros((muestras.shape[0],1))\n",
        "    for counter in range(0, muestras.shape[0]):\n",
        "        resultado[counter] = centroideCercano(muestras[counter], centroides)\n",
        "    return resultado\n",
        "\n",
        "def separarDatos(muestras, valoresEsperados, valorAFiltrar):\n",
        "    indices = np.where(valoresEsperados == valorAFiltrar)\n",
        "    return muestras[indices], valoresEsperados[indices]\n",
        "\n",
        "def obtenerModa(resultados):\n",
        "    moda = (stats.mode(resultados)[0]).reshape(-1)\n",
        "    return moda[0]\n",
        "\n",
        "def obtenerAccuracy_kmedias(muestras, centroides):\n",
        "    numMuestras = muestras.shape[0]\n",
        "    resultados = clasificarPorCentroides(muestras, centroides)\n",
        "    moda = obtenerModa(resultados)\n",
        "    indicesErrores = np.where(resultados != moda)\n",
        "    cantidadErrores = len(resultados[indicesErrores])\n",
        "    accuracy = ((numMuestras - cantidadErrores) / numMuestras) *100\n",
        "    return accuracy"
      ],
      "execution_count": 28,
      "outputs": []
    },
    {
      "cell_type": "code",
      "metadata": {
        "id": "julx0a305YDx",
        "colab": {
          "base_uri": "https://localhost:8080/"
        },
        "outputId": "668f31bb-509d-411b-d30f-8dd938424382"
      },
      "source": [
        "f1_df = pd.read_csv(\"https://raw.githubusercontent.com/AreYouRuben/DS_Team24/main/Analisis_Datos_Python_Santander/f1_dataset/lap_times.csv\")\n",
        "sns.set(style=\"whitegrid\")\n",
        "print(\"Colums : \" + f1_df.columns)\n",
        "cols = [\"raceId\",\"driverId\", \"position\"]\n",
        "print(f1_df[cols].head(5))\n",
        "print(f1_df.loc[[1,10], cols])"
      ],
      "execution_count": 29,
      "outputs": [
        {
          "output_type": "stream",
          "text": [
            "Index(['Colums : raceId', 'Colums : driverId', 'Colums : lap',\n",
            "       'Colums : position', 'Colums : time', 'Colums : milliseconds'],\n",
            "      dtype='object')\n",
            "   raceId  driverId  position\n",
            "0     841        20         1\n",
            "1     841        20         1\n",
            "2     841        20         1\n",
            "3     841        20         1\n",
            "4     841        20         1\n",
            "    raceId  driverId  position\n",
            "1      841        20         1\n",
            "10     841        20         1\n"
          ],
          "name": "stdout"
        }
      ]
    },
    {
      "cell_type": "code",
      "metadata": {
        "id": "jWAz-wUjIdXE",
        "colab": {
          "base_uri": "https://localhost:8080/"
        },
        "outputId": "88b35113-df88-48eb-9a39-6ed4887cd2e4"
      },
      "source": [
        "# Get number of rebases\n",
        "dictF1 = {} # raceId: numberRebases\n",
        "last = f1_df.iloc[0]\n",
        "print(last.raceId)\n",
        "counter = 0\n",
        "for i in range(1, f1_df.shape[0]):\n",
        "  current = f1_df.iloc[i]\n",
        "  if current.raceId == last.raceId and current.driverId == last.driverId and current.position < last.position:\n",
        "    #print(last)\n",
        "    counter += (last.position - current.position) # From last 6, to current 5\n",
        "  # Add counter and reset counter\n",
        "  if current.raceId != last.raceId:\n",
        "    dictF1[last.raceId] = counter\n",
        "    counter = 0\n",
        "  last = current\n",
        "\n",
        "print(dictF1)"
      ],
      "execution_count": 30,
      "outputs": [
        {
          "output_type": "stream",
          "text": [
            "841\n",
            "{841: 189, 842: 280, 843: 289, 844: 373, 845: 292, 846: 210, 847: 0, 848: 188, 849: 203, 850: 201, 851: 253, 852: 250, 853: 137, 854: 248, 855: 304, 856: 211, 857: 132, 858: 181, 859: 205, 860: 210, 861: 384, 862: 377, 863: 354, 864: 354, 865: 136, 866: 212, 867: 351, 868: 125, 869: 230, 870: 168, 871: 174, 872: 273, 873: 354, 874: 187, 875: 138, 876: 113, 877: 233, 878: 174, 879: 419, 881: 277, 880: 320, 882: 321, 883: 353, 884: 330, 885: 138, 886: 150, 887: 377, 888: 276, 890: 232, 891: 211, 892: 158, 893: 254, 894: 282, 895: 207, 896: 280, 897: 213, 898: 100, 899: 218, 900: 107, 901: 169, 902: 263, 903: 163, 904: 236, 905: 101, 906: 215, 907: 238, 908: 125, 909: 242, 910: 277, 911: 224, 912: 153, 913: 217, 914: 232, 915: 129, 916: 181, 926: 48, 918: 47, 927: 274, 928: 157, 929: 173, 930: 166, 931: 71, 932: 108, 933: 79, 934: 92, 936: 220, 937: 136, 938: 115, 939: 146, 940: 142, 941: 149, 942: 153, 943: 136, 944: 198, 945: 174, 948: 178, 949: 303, 224: 94, 225: 180, 226: 196, 227: 133, 228: 183, 229: 85, 230: 59, 231: 125, 232: 88, 233: 119, 234: 95, 235: 112, 236: 92, 237: 119, 238: 150, 239: 116, 207: 81, 208: 182, 209: 206, 210: 94, 211: 115, 212: 234, 213: 138, 214: 113, 215: 202, 216: 97, 217: 210, 218: 238, 219: 104, 220: 158, 221: 128, 222: 153, 223: 189, 191: 89, 192: 99, 193: 116, 194: 87, 195: 121, 196: 103, 197: 123, 198: 157, 199: 161, 200: 145, 201: 87, 202: 114, 203: 64, 204: 128, 205: 125, 206: 108, 175: 179, 176: 164, 177: 131, 178: 77, 179: 121, 180: 102, 181: 174, 182: 162, 183: 181, 184: 121, 185: 124, 186: 105, 187: 95, 188: 179, 189: 114, 190: 122, 158: 153, 159: 106, 160: 131, 161: 234, 162: 130, 163: 212, 164: 95, 165: 178, 166: 147, 167: 111, 168: 232, 169: 114, 170: 209, 171: 78, 172: 310, 173: 139, 174: 165, 141: 146, 142: 177, 143: 195, 144: 118, 145: 148, 146: 99, 147: 117, 148: 134, 149: 132, 150: 141, 151: 89, 152: 146, 153: 92, 154: 92, 155: 106, 156: 158, 157: 166, 124: 56, 125: 186, 126: 154, 127: 99, 128: 130, 129: 162, 130: 147, 131: 153, 132: 140, 133: 176, 134: 107, 135: 151, 136: 93, 137: 147, 138: 139, 139: 127, 140: 127, 108: 273, 109: 112, 110: 212, 111: 160, 112: 159, 113: 186, 114: 104, 115: 170, 116: 180, 117: 170, 118: 334, 119: 87, 120: 197, 121: 112, 122: 264, 123: 235, 90: 126, 91: 194, 92: 235, 93: 151, 94: 190, 95: 115, 96: 167, 97: 135, 98: 130, 99: 168, 100: 190, 101: 222, 102: 147, 103: 170, 104: 196, 105: 207, 106: 193, 107: 258, 71: 116, 72: 130, 73: 165, 74: 96, 75: 107, 76: 85, 77: 138, 78: 166, 79: 7, 80: 130, 81: 83, 82: 122, 83: 104, 84: 151, 85: 145, 86: 193, 87: 90, 88: 145, 89: 152, 53: 175, 54: 118, 55: 132, 56: 130, 57: 151, 58: 123, 59: 173, 60: 96, 61: 121, 62: 51, 63: 136, 64: 135, 65: 158, 66: 151, 67: 146, 68: 194, 69: 170, 70: 164, 36: 155, 37: 179, 38: 162, 39: 131, 40: 86, 41: 309, 42: 149, 43: 95, 44: 166, 45: 235, 46: 140, 47: 166, 48: 145, 49: 142, 50: 351, 51: 201, 52: 162, 18: 134, 19: 166, 20: 149, 21: 164, 22: 148, 23: 186, 24: 243, 25: 169, 26: 169, 27: 201, 28: 143, 29: 105, 30: 152, 31: 222, 32: 251, 33: 171, 34: 167, 35: 183, 1: 240, 2: 148, 3: 261, 4: 179, 5: 111, 6: 131, 7: 175, 8: 143, 9: 241, 10: 176, 11: 127, 12: 126, 13: 128, 14: 125, 15: 144, 16: 178, 17: 135, 337: 107, 338: 163, 339: 127, 340: 219, 341: 75, 342: 155, 343: 123, 344: 257, 345: 143, 346: 182, 347: 100, 348: 106, 349: 163, 350: 62, 351: 146, 352: 102, 353: 198, 354: 182, 355: 137, 917: 369, 950: 422, 951: 130, 952: 266, 953: 171, 954: 150, 955: 255, 956: 340, 957: 245, 958: 169, 959: 232, 960: 172, 961: 183, 962: 223, 963: 168, 964: 227, 965: 198, 966: 151, 967: 228, 968: 202, 969: 62, 970: 131, 971: 143, 972: 46, 973: 103, 974: 78, 975: 121, 976: 169, 977: 54, 978: 118, 979: 69, 980: 143, 981: 143, 982: 80, 983: 128, 984: 116, 985: 120, 986: 124, 987: 91, 988: 107, 989: 49, 990: 198, 991: 160, 992: 151, 993: 103, 994: 107, 995: 86, 996: 120, 997: 137, 998: 152, 999: 211, 1000: 90, 1001: 56, 1002: 108, 1003: 105, 1004: 98, 1005: 158, 1006: 106, 1007: 171, 1008: 133, 1009: 139, 1010: 97, 1011: 211, 1012: 121, 1013: 169, 1014: 116, 1015: 85, 1016: 108, 1017: 114, 1018: 125, 1019: 133, 1020: 325, 1021: 111, 1022: 145, 1023: 161, 1024: 195, 1025: 118, 1026: 160, 1027: 159, 1028: 165, 1029: 210, 1030: 132, 1031: 109, 1032: 144, 1033: 224, 1034: 86, 1035: 215, 1036: 175, 1037: 74, 1038: 167, 1039: 100, 1040: 119, 1041: 200, 1042: 184, 1043: 162, 1044: 150, 1045: 242, 1046: 176, 1047: 85, 1052: 243, 1053: 128}\n"
          ],
          "name": "stdout"
        }
      ]
    },
    {
      "cell_type": "code",
      "metadata": {
        "id": "igeuD-4tIex6",
        "colab": {
          "base_uri": "https://localhost:8080/",
          "height": 1000
        },
        "outputId": "c77a7a86-6818-4840-bf5a-34db99fb5011"
      },
      "source": [
        "# Add this info to current dataframe\n",
        "f1_resultsdf = pd.read_csv(\"https://raw.githubusercontent.com/AreYouRuben/DS_Team24/main/Analisis_Datos_Python_Santander/f1_dataset/results.csv\")\n",
        "f1_resultsdf[\"rebases\"] = f1_resultsdf.apply(lambda row: dictF1[row.raceId] if row.raceId in dictF1 else 0, axis=1)\n",
        "f1_resultsdf.head(10)"
      ],
      "execution_count": 31,
      "outputs": [
        {
          "output_type": "execute_result",
          "data": {
            "text/html": [
              "<div>\n",
              "<style scoped>\n",
              "    .dataframe tbody tr th:only-of-type {\n",
              "        vertical-align: middle;\n",
              "    }\n",
              "\n",
              "    .dataframe tbody tr th {\n",
              "        vertical-align: top;\n",
              "    }\n",
              "\n",
              "    .dataframe thead th {\n",
              "        text-align: right;\n",
              "    }\n",
              "</style>\n",
              "<table border=\"1\" class=\"dataframe\">\n",
              "  <thead>\n",
              "    <tr style=\"text-align: right;\">\n",
              "      <th></th>\n",
              "      <th>resultId</th>\n",
              "      <th>raceId</th>\n",
              "      <th>driverId</th>\n",
              "      <th>constructorId</th>\n",
              "      <th>number</th>\n",
              "      <th>grid</th>\n",
              "      <th>position</th>\n",
              "      <th>positionText</th>\n",
              "      <th>positionOrder</th>\n",
              "      <th>points</th>\n",
              "      <th>laps</th>\n",
              "      <th>time</th>\n",
              "      <th>milliseconds</th>\n",
              "      <th>fastestLap</th>\n",
              "      <th>rank</th>\n",
              "      <th>fastestLapTime</th>\n",
              "      <th>fastestLapSpeed</th>\n",
              "      <th>statusId</th>\n",
              "      <th>rebases</th>\n",
              "    </tr>\n",
              "  </thead>\n",
              "  <tbody>\n",
              "    <tr>\n",
              "      <th>0</th>\n",
              "      <td>1</td>\n",
              "      <td>18</td>\n",
              "      <td>1</td>\n",
              "      <td>1</td>\n",
              "      <td>22</td>\n",
              "      <td>1</td>\n",
              "      <td>1</td>\n",
              "      <td>1</td>\n",
              "      <td>1</td>\n",
              "      <td>10.0</td>\n",
              "      <td>58</td>\n",
              "      <td>1:34:50.616</td>\n",
              "      <td>5690616</td>\n",
              "      <td>39</td>\n",
              "      <td>2</td>\n",
              "      <td>1:27.452</td>\n",
              "      <td>218.300</td>\n",
              "      <td>1</td>\n",
              "      <td>134</td>\n",
              "    </tr>\n",
              "    <tr>\n",
              "      <th>1</th>\n",
              "      <td>2</td>\n",
              "      <td>18</td>\n",
              "      <td>2</td>\n",
              "      <td>2</td>\n",
              "      <td>3</td>\n",
              "      <td>5</td>\n",
              "      <td>2</td>\n",
              "      <td>2</td>\n",
              "      <td>2</td>\n",
              "      <td>8.0</td>\n",
              "      <td>58</td>\n",
              "      <td>+5.478</td>\n",
              "      <td>5696094</td>\n",
              "      <td>41</td>\n",
              "      <td>3</td>\n",
              "      <td>1:27.739</td>\n",
              "      <td>217.586</td>\n",
              "      <td>1</td>\n",
              "      <td>134</td>\n",
              "    </tr>\n",
              "    <tr>\n",
              "      <th>2</th>\n",
              "      <td>3</td>\n",
              "      <td>18</td>\n",
              "      <td>3</td>\n",
              "      <td>3</td>\n",
              "      <td>7</td>\n",
              "      <td>7</td>\n",
              "      <td>3</td>\n",
              "      <td>3</td>\n",
              "      <td>3</td>\n",
              "      <td>6.0</td>\n",
              "      <td>58</td>\n",
              "      <td>+8.163</td>\n",
              "      <td>5698779</td>\n",
              "      <td>41</td>\n",
              "      <td>5</td>\n",
              "      <td>1:28.090</td>\n",
              "      <td>216.719</td>\n",
              "      <td>1</td>\n",
              "      <td>134</td>\n",
              "    </tr>\n",
              "    <tr>\n",
              "      <th>3</th>\n",
              "      <td>4</td>\n",
              "      <td>18</td>\n",
              "      <td>4</td>\n",
              "      <td>4</td>\n",
              "      <td>5</td>\n",
              "      <td>11</td>\n",
              "      <td>4</td>\n",
              "      <td>4</td>\n",
              "      <td>4</td>\n",
              "      <td>5.0</td>\n",
              "      <td>58</td>\n",
              "      <td>+17.181</td>\n",
              "      <td>5707797</td>\n",
              "      <td>58</td>\n",
              "      <td>7</td>\n",
              "      <td>1:28.603</td>\n",
              "      <td>215.464</td>\n",
              "      <td>1</td>\n",
              "      <td>134</td>\n",
              "    </tr>\n",
              "    <tr>\n",
              "      <th>4</th>\n",
              "      <td>5</td>\n",
              "      <td>18</td>\n",
              "      <td>5</td>\n",
              "      <td>1</td>\n",
              "      <td>23</td>\n",
              "      <td>3</td>\n",
              "      <td>5</td>\n",
              "      <td>5</td>\n",
              "      <td>5</td>\n",
              "      <td>4.0</td>\n",
              "      <td>58</td>\n",
              "      <td>+18.014</td>\n",
              "      <td>5708630</td>\n",
              "      <td>43</td>\n",
              "      <td>1</td>\n",
              "      <td>1:27.418</td>\n",
              "      <td>218.385</td>\n",
              "      <td>1</td>\n",
              "      <td>134</td>\n",
              "    </tr>\n",
              "    <tr>\n",
              "      <th>5</th>\n",
              "      <td>6</td>\n",
              "      <td>18</td>\n",
              "      <td>6</td>\n",
              "      <td>3</td>\n",
              "      <td>8</td>\n",
              "      <td>13</td>\n",
              "      <td>6</td>\n",
              "      <td>6</td>\n",
              "      <td>6</td>\n",
              "      <td>3.0</td>\n",
              "      <td>57</td>\n",
              "      <td>\\N</td>\n",
              "      <td>\\N</td>\n",
              "      <td>50</td>\n",
              "      <td>14</td>\n",
              "      <td>1:29.639</td>\n",
              "      <td>212.974</td>\n",
              "      <td>11</td>\n",
              "      <td>134</td>\n",
              "    </tr>\n",
              "    <tr>\n",
              "      <th>6</th>\n",
              "      <td>7</td>\n",
              "      <td>18</td>\n",
              "      <td>7</td>\n",
              "      <td>5</td>\n",
              "      <td>14</td>\n",
              "      <td>17</td>\n",
              "      <td>7</td>\n",
              "      <td>7</td>\n",
              "      <td>7</td>\n",
              "      <td>2.0</td>\n",
              "      <td>55</td>\n",
              "      <td>\\N</td>\n",
              "      <td>\\N</td>\n",
              "      <td>22</td>\n",
              "      <td>12</td>\n",
              "      <td>1:29.534</td>\n",
              "      <td>213.224</td>\n",
              "      <td>5</td>\n",
              "      <td>134</td>\n",
              "    </tr>\n",
              "    <tr>\n",
              "      <th>7</th>\n",
              "      <td>8</td>\n",
              "      <td>18</td>\n",
              "      <td>8</td>\n",
              "      <td>6</td>\n",
              "      <td>1</td>\n",
              "      <td>15</td>\n",
              "      <td>8</td>\n",
              "      <td>8</td>\n",
              "      <td>8</td>\n",
              "      <td>1.0</td>\n",
              "      <td>53</td>\n",
              "      <td>\\N</td>\n",
              "      <td>\\N</td>\n",
              "      <td>20</td>\n",
              "      <td>4</td>\n",
              "      <td>1:27.903</td>\n",
              "      <td>217.180</td>\n",
              "      <td>5</td>\n",
              "      <td>134</td>\n",
              "    </tr>\n",
              "    <tr>\n",
              "      <th>8</th>\n",
              "      <td>9</td>\n",
              "      <td>18</td>\n",
              "      <td>9</td>\n",
              "      <td>2</td>\n",
              "      <td>4</td>\n",
              "      <td>2</td>\n",
              "      <td>\\N</td>\n",
              "      <td>R</td>\n",
              "      <td>9</td>\n",
              "      <td>0.0</td>\n",
              "      <td>47</td>\n",
              "      <td>\\N</td>\n",
              "      <td>\\N</td>\n",
              "      <td>15</td>\n",
              "      <td>9</td>\n",
              "      <td>1:28.753</td>\n",
              "      <td>215.100</td>\n",
              "      <td>4</td>\n",
              "      <td>134</td>\n",
              "    </tr>\n",
              "    <tr>\n",
              "      <th>9</th>\n",
              "      <td>10</td>\n",
              "      <td>18</td>\n",
              "      <td>10</td>\n",
              "      <td>7</td>\n",
              "      <td>12</td>\n",
              "      <td>18</td>\n",
              "      <td>\\N</td>\n",
              "      <td>R</td>\n",
              "      <td>10</td>\n",
              "      <td>0.0</td>\n",
              "      <td>43</td>\n",
              "      <td>\\N</td>\n",
              "      <td>\\N</td>\n",
              "      <td>23</td>\n",
              "      <td>13</td>\n",
              "      <td>1:29.558</td>\n",
              "      <td>213.166</td>\n",
              "      <td>3</td>\n",
              "      <td>134</td>\n",
              "    </tr>\n",
              "    <tr>\n",
              "      <th>10</th>\n",
              "      <td>11</td>\n",
              "      <td>18</td>\n",
              "      <td>11</td>\n",
              "      <td>8</td>\n",
              "      <td>18</td>\n",
              "      <td>19</td>\n",
              "      <td>\\N</td>\n",
              "      <td>R</td>\n",
              "      <td>11</td>\n",
              "      <td>0.0</td>\n",
              "      <td>32</td>\n",
              "      <td>\\N</td>\n",
              "      <td>\\N</td>\n",
              "      <td>24</td>\n",
              "      <td>15</td>\n",
              "      <td>1:30.892</td>\n",
              "      <td>210.038</td>\n",
              "      <td>7</td>\n",
              "      <td>134</td>\n",
              "    </tr>\n",
              "    <tr>\n",
              "      <th>11</th>\n",
              "      <td>12</td>\n",
              "      <td>18</td>\n",
              "      <td>12</td>\n",
              "      <td>4</td>\n",
              "      <td>6</td>\n",
              "      <td>20</td>\n",
              "      <td>\\N</td>\n",
              "      <td>R</td>\n",
              "      <td>12</td>\n",
              "      <td>0.0</td>\n",
              "      <td>30</td>\n",
              "      <td>\\N</td>\n",
              "      <td>\\N</td>\n",
              "      <td>20</td>\n",
              "      <td>16</td>\n",
              "      <td>1:31.384</td>\n",
              "      <td>208.907</td>\n",
              "      <td>8</td>\n",
              "      <td>134</td>\n",
              "    </tr>\n",
              "    <tr>\n",
              "      <th>12</th>\n",
              "      <td>13</td>\n",
              "      <td>18</td>\n",
              "      <td>13</td>\n",
              "      <td>6</td>\n",
              "      <td>2</td>\n",
              "      <td>4</td>\n",
              "      <td>\\N</td>\n",
              "      <td>R</td>\n",
              "      <td>13</td>\n",
              "      <td>0.0</td>\n",
              "      <td>29</td>\n",
              "      <td>\\N</td>\n",
              "      <td>\\N</td>\n",
              "      <td>23</td>\n",
              "      <td>6</td>\n",
              "      <td>1:28.175</td>\n",
              "      <td>216.510</td>\n",
              "      <td>5</td>\n",
              "      <td>134</td>\n",
              "    </tr>\n",
              "    <tr>\n",
              "      <th>13</th>\n",
              "      <td>14</td>\n",
              "      <td>18</td>\n",
              "      <td>14</td>\n",
              "      <td>9</td>\n",
              "      <td>9</td>\n",
              "      <td>8</td>\n",
              "      <td>\\N</td>\n",
              "      <td>R</td>\n",
              "      <td>14</td>\n",
              "      <td>0.0</td>\n",
              "      <td>25</td>\n",
              "      <td>\\N</td>\n",
              "      <td>\\N</td>\n",
              "      <td>21</td>\n",
              "      <td>11</td>\n",
              "      <td>1:29.502</td>\n",
              "      <td>213.300</td>\n",
              "      <td>4</td>\n",
              "      <td>134</td>\n",
              "    </tr>\n",
              "    <tr>\n",
              "      <th>14</th>\n",
              "      <td>15</td>\n",
              "      <td>18</td>\n",
              "      <td>15</td>\n",
              "      <td>7</td>\n",
              "      <td>11</td>\n",
              "      <td>6</td>\n",
              "      <td>\\N</td>\n",
              "      <td>R</td>\n",
              "      <td>15</td>\n",
              "      <td>0.0</td>\n",
              "      <td>19</td>\n",
              "      <td>\\N</td>\n",
              "      <td>\\N</td>\n",
              "      <td>18</td>\n",
              "      <td>10</td>\n",
              "      <td>1:29.310</td>\n",
              "      <td>213.758</td>\n",
              "      <td>10</td>\n",
              "      <td>134</td>\n",
              "    </tr>\n",
              "    <tr>\n",
              "      <th>15</th>\n",
              "      <td>16</td>\n",
              "      <td>18</td>\n",
              "      <td>16</td>\n",
              "      <td>10</td>\n",
              "      <td>20</td>\n",
              "      <td>22</td>\n",
              "      <td>\\N</td>\n",
              "      <td>R</td>\n",
              "      <td>16</td>\n",
              "      <td>0.0</td>\n",
              "      <td>8</td>\n",
              "      <td>\\N</td>\n",
              "      <td>\\N</td>\n",
              "      <td>8</td>\n",
              "      <td>17</td>\n",
              "      <td>1:32.021</td>\n",
              "      <td>207.461</td>\n",
              "      <td>9</td>\n",
              "      <td>134</td>\n",
              "    </tr>\n",
              "    <tr>\n",
              "      <th>16</th>\n",
              "      <td>17</td>\n",
              "      <td>18</td>\n",
              "      <td>17</td>\n",
              "      <td>9</td>\n",
              "      <td>10</td>\n",
              "      <td>14</td>\n",
              "      <td>\\N</td>\n",
              "      <td>R</td>\n",
              "      <td>17</td>\n",
              "      <td>0.0</td>\n",
              "      <td>0</td>\n",
              "      <td>\\N</td>\n",
              "      <td>\\N</td>\n",
              "      <td>\\N</td>\n",
              "      <td>\\N</td>\n",
              "      <td>\\N</td>\n",
              "      <td>\\N</td>\n",
              "      <td>4</td>\n",
              "      <td>134</td>\n",
              "    </tr>\n",
              "    <tr>\n",
              "      <th>17</th>\n",
              "      <td>18</td>\n",
              "      <td>18</td>\n",
              "      <td>18</td>\n",
              "      <td>11</td>\n",
              "      <td>16</td>\n",
              "      <td>12</td>\n",
              "      <td>\\N</td>\n",
              "      <td>R</td>\n",
              "      <td>18</td>\n",
              "      <td>0.0</td>\n",
              "      <td>0</td>\n",
              "      <td>\\N</td>\n",
              "      <td>\\N</td>\n",
              "      <td>\\N</td>\n",
              "      <td>\\N</td>\n",
              "      <td>\\N</td>\n",
              "      <td>\\N</td>\n",
              "      <td>4</td>\n",
              "      <td>134</td>\n",
              "    </tr>\n",
              "    <tr>\n",
              "      <th>18</th>\n",
              "      <td>19</td>\n",
              "      <td>18</td>\n",
              "      <td>19</td>\n",
              "      <td>8</td>\n",
              "      <td>19</td>\n",
              "      <td>21</td>\n",
              "      <td>\\N</td>\n",
              "      <td>R</td>\n",
              "      <td>19</td>\n",
              "      <td>0.0</td>\n",
              "      <td>0</td>\n",
              "      <td>\\N</td>\n",
              "      <td>\\N</td>\n",
              "      <td>\\N</td>\n",
              "      <td>\\N</td>\n",
              "      <td>\\N</td>\n",
              "      <td>\\N</td>\n",
              "      <td>4</td>\n",
              "      <td>134</td>\n",
              "    </tr>\n",
              "    <tr>\n",
              "      <th>19</th>\n",
              "      <td>20</td>\n",
              "      <td>18</td>\n",
              "      <td>20</td>\n",
              "      <td>5</td>\n",
              "      <td>15</td>\n",
              "      <td>9</td>\n",
              "      <td>\\N</td>\n",
              "      <td>R</td>\n",
              "      <td>20</td>\n",
              "      <td>0.0</td>\n",
              "      <td>0</td>\n",
              "      <td>\\N</td>\n",
              "      <td>\\N</td>\n",
              "      <td>\\N</td>\n",
              "      <td>\\N</td>\n",
              "      <td>\\N</td>\n",
              "      <td>\\N</td>\n",
              "      <td>4</td>\n",
              "      <td>134</td>\n",
              "    </tr>\n",
              "    <tr>\n",
              "      <th>20</th>\n",
              "      <td>21</td>\n",
              "      <td>18</td>\n",
              "      <td>21</td>\n",
              "      <td>10</td>\n",
              "      <td>21</td>\n",
              "      <td>16</td>\n",
              "      <td>\\N</td>\n",
              "      <td>R</td>\n",
              "      <td>21</td>\n",
              "      <td>0.0</td>\n",
              "      <td>0</td>\n",
              "      <td>\\N</td>\n",
              "      <td>\\N</td>\n",
              "      <td>\\N</td>\n",
              "      <td>\\N</td>\n",
              "      <td>\\N</td>\n",
              "      <td>\\N</td>\n",
              "      <td>4</td>\n",
              "      <td>134</td>\n",
              "    </tr>\n",
              "    <tr>\n",
              "      <th>21</th>\n",
              "      <td>22</td>\n",
              "      <td>18</td>\n",
              "      <td>22</td>\n",
              "      <td>11</td>\n",
              "      <td>17</td>\n",
              "      <td>10</td>\n",
              "      <td>\\N</td>\n",
              "      <td>D</td>\n",
              "      <td>22</td>\n",
              "      <td>0.0</td>\n",
              "      <td>58</td>\n",
              "      <td>\\N</td>\n",
              "      <td>\\N</td>\n",
              "      <td>44</td>\n",
              "      <td>8</td>\n",
              "      <td>1:28.736</td>\n",
              "      <td>215.141</td>\n",
              "      <td>2</td>\n",
              "      <td>134</td>\n",
              "    </tr>\n",
              "    <tr>\n",
              "      <th>22</th>\n",
              "      <td>23</td>\n",
              "      <td>19</td>\n",
              "      <td>8</td>\n",
              "      <td>6</td>\n",
              "      <td>1</td>\n",
              "      <td>2</td>\n",
              "      <td>1</td>\n",
              "      <td>1</td>\n",
              "      <td>1</td>\n",
              "      <td>10.0</td>\n",
              "      <td>56</td>\n",
              "      <td>1:31:18.555</td>\n",
              "      <td>5478555</td>\n",
              "      <td>37</td>\n",
              "      <td>2</td>\n",
              "      <td>1:35.405</td>\n",
              "      <td>209.158</td>\n",
              "      <td>1</td>\n",
              "      <td>166</td>\n",
              "    </tr>\n",
              "    <tr>\n",
              "      <th>23</th>\n",
              "      <td>24</td>\n",
              "      <td>19</td>\n",
              "      <td>9</td>\n",
              "      <td>2</td>\n",
              "      <td>4</td>\n",
              "      <td>4</td>\n",
              "      <td>2</td>\n",
              "      <td>2</td>\n",
              "      <td>2</td>\n",
              "      <td>8.0</td>\n",
              "      <td>56</td>\n",
              "      <td>+19.570</td>\n",
              "      <td>5498125</td>\n",
              "      <td>39</td>\n",
              "      <td>6</td>\n",
              "      <td>1:35.921</td>\n",
              "      <td>208.033</td>\n",
              "      <td>1</td>\n",
              "      <td>166</td>\n",
              "    </tr>\n",
              "    <tr>\n",
              "      <th>24</th>\n",
              "      <td>25</td>\n",
              "      <td>19</td>\n",
              "      <td>5</td>\n",
              "      <td>1</td>\n",
              "      <td>23</td>\n",
              "      <td>8</td>\n",
              "      <td>3</td>\n",
              "      <td>3</td>\n",
              "      <td>3</td>\n",
              "      <td>6.0</td>\n",
              "      <td>56</td>\n",
              "      <td>+38.450</td>\n",
              "      <td>5517005</td>\n",
              "      <td>19</td>\n",
              "      <td>7</td>\n",
              "      <td>1:35.922</td>\n",
              "      <td>208.031</td>\n",
              "      <td>1</td>\n",
              "      <td>166</td>\n",
              "    </tr>\n",
              "    <tr>\n",
              "      <th>25</th>\n",
              "      <td>26</td>\n",
              "      <td>19</td>\n",
              "      <td>15</td>\n",
              "      <td>7</td>\n",
              "      <td>11</td>\n",
              "      <td>3</td>\n",
              "      <td>4</td>\n",
              "      <td>4</td>\n",
              "      <td>4</td>\n",
              "      <td>5.0</td>\n",
              "      <td>56</td>\n",
              "      <td>+45.832</td>\n",
              "      <td>5524387</td>\n",
              "      <td>53</td>\n",
              "      <td>8</td>\n",
              "      <td>1:36.068</td>\n",
              "      <td>207.715</td>\n",
              "      <td>1</td>\n",
              "      <td>166</td>\n",
              "    </tr>\n",
              "    <tr>\n",
              "      <th>26</th>\n",
              "      <td>27</td>\n",
              "      <td>19</td>\n",
              "      <td>1</td>\n",
              "      <td>1</td>\n",
              "      <td>22</td>\n",
              "      <td>9</td>\n",
              "      <td>5</td>\n",
              "      <td>5</td>\n",
              "      <td>5</td>\n",
              "      <td>4.0</td>\n",
              "      <td>56</td>\n",
              "      <td>+46.548</td>\n",
              "      <td>5525103</td>\n",
              "      <td>53</td>\n",
              "      <td>3</td>\n",
              "      <td>1:35.462</td>\n",
              "      <td>209.033</td>\n",
              "      <td>1</td>\n",
              "      <td>166</td>\n",
              "    </tr>\n",
              "    <tr>\n",
              "      <th>27</th>\n",
              "      <td>28</td>\n",
              "      <td>19</td>\n",
              "      <td>2</td>\n",
              "      <td>2</td>\n",
              "      <td>3</td>\n",
              "      <td>5</td>\n",
              "      <td>6</td>\n",
              "      <td>6</td>\n",
              "      <td>6</td>\n",
              "      <td>3.0</td>\n",
              "      <td>56</td>\n",
              "      <td>+49.833</td>\n",
              "      <td>5528388</td>\n",
              "      <td>55</td>\n",
              "      <td>1</td>\n",
              "      <td>1:35.366</td>\n",
              "      <td>209.244</td>\n",
              "      <td>1</td>\n",
              "      <td>166</td>\n",
              "    </tr>\n",
              "    <tr>\n",
              "      <th>28</th>\n",
              "      <td>29</td>\n",
              "      <td>19</td>\n",
              "      <td>17</td>\n",
              "      <td>9</td>\n",
              "      <td>10</td>\n",
              "      <td>6</td>\n",
              "      <td>7</td>\n",
              "      <td>7</td>\n",
              "      <td>7</td>\n",
              "      <td>2.0</td>\n",
              "      <td>56</td>\n",
              "      <td>+1:08.130</td>\n",
              "      <td>5546685</td>\n",
              "      <td>53</td>\n",
              "      <td>12</td>\n",
              "      <td>1:36.696</td>\n",
              "      <td>206.366</td>\n",
              "      <td>1</td>\n",
              "      <td>166</td>\n",
              "    </tr>\n",
              "    <tr>\n",
              "      <th>29</th>\n",
              "      <td>30</td>\n",
              "      <td>19</td>\n",
              "      <td>4</td>\n",
              "      <td>4</td>\n",
              "      <td>5</td>\n",
              "      <td>7</td>\n",
              "      <td>8</td>\n",
              "      <td>8</td>\n",
              "      <td>8</td>\n",
              "      <td>1.0</td>\n",
              "      <td>56</td>\n",
              "      <td>+1:10.041</td>\n",
              "      <td>5548596</td>\n",
              "      <td>40</td>\n",
              "      <td>10</td>\n",
              "      <td>1:36.288</td>\n",
              "      <td>207.240</td>\n",
              "      <td>1</td>\n",
              "      <td>166</td>\n",
              "    </tr>\n",
              "    <tr>\n",
              "      <th>30</th>\n",
              "      <td>31</td>\n",
              "      <td>19</td>\n",
              "      <td>14</td>\n",
              "      <td>9</td>\n",
              "      <td>9</td>\n",
              "      <td>12</td>\n",
              "      <td>9</td>\n",
              "      <td>9</td>\n",
              "      <td>9</td>\n",
              "      <td>0.0</td>\n",
              "      <td>56</td>\n",
              "      <td>+1:16.220</td>\n",
              "      <td>5554775</td>\n",
              "      <td>55</td>\n",
              "      <td>9</td>\n",
              "      <td>1:36.206</td>\n",
              "      <td>207.417</td>\n",
              "      <td>1</td>\n",
              "      <td>166</td>\n",
              "    </tr>\n",
              "    <tr>\n",
              "      <th>31</th>\n",
              "      <td>32</td>\n",
              "      <td>19</td>\n",
              "      <td>18</td>\n",
              "      <td>11</td>\n",
              "      <td>16</td>\n",
              "      <td>11</td>\n",
              "      <td>10</td>\n",
              "      <td>10</td>\n",
              "      <td>10</td>\n",
              "      <td>0.0</td>\n",
              "      <td>56</td>\n",
              "      <td>+1:26.214</td>\n",
              "      <td>5564769</td>\n",
              "      <td>56</td>\n",
              "      <td>4</td>\n",
              "      <td>1:35.715</td>\n",
              "      <td>208.481</td>\n",
              "      <td>1</td>\n",
              "      <td>166</td>\n",
              "    </tr>\n",
              "    <tr>\n",
              "      <th>32</th>\n",
              "      <td>33</td>\n",
              "      <td>19</td>\n",
              "      <td>12</td>\n",
              "      <td>4</td>\n",
              "      <td>6</td>\n",
              "      <td>13</td>\n",
              "      <td>11</td>\n",
              "      <td>11</td>\n",
              "      <td>11</td>\n",
              "      <td>0.0</td>\n",
              "      <td>56</td>\n",
              "      <td>+1:32.202</td>\n",
              "      <td>5570757</td>\n",
              "      <td>52</td>\n",
              "      <td>15</td>\n",
              "      <td>1:36.956</td>\n",
              "      <td>205.812</td>\n",
              "      <td>1</td>\n",
              "      <td>166</td>\n",
              "    </tr>\n",
              "    <tr>\n",
              "      <th>33</th>\n",
              "      <td>34</td>\n",
              "      <td>19</td>\n",
              "      <td>21</td>\n",
              "      <td>10</td>\n",
              "      <td>21</td>\n",
              "      <td>17</td>\n",
              "      <td>12</td>\n",
              "      <td>12</td>\n",
              "      <td>12</td>\n",
              "      <td>0.0</td>\n",
              "      <td>55</td>\n",
              "      <td>\\N</td>\n",
              "      <td>\\N</td>\n",
              "      <td>52</td>\n",
              "      <td>16</td>\n",
              "      <td>1:36.962</td>\n",
              "      <td>205.800</td>\n",
              "      <td>11</td>\n",
              "      <td>166</td>\n",
              "    </tr>\n",
              "    <tr>\n",
              "      <th>34</th>\n",
              "      <td>35</td>\n",
              "      <td>19</td>\n",
              "      <td>22</td>\n",
              "      <td>11</td>\n",
              "      <td>17</td>\n",
              "      <td>14</td>\n",
              "      <td>13</td>\n",
              "      <td>13</td>\n",
              "      <td>13</td>\n",
              "      <td>0.0</td>\n",
              "      <td>55</td>\n",
              "      <td>\\N</td>\n",
              "      <td>\\N</td>\n",
              "      <td>55</td>\n",
              "      <td>11</td>\n",
              "      <td>1:36.693</td>\n",
              "      <td>206.372</td>\n",
              "      <td>11</td>\n",
              "      <td>166</td>\n",
              "    </tr>\n",
              "  </tbody>\n",
              "</table>\n",
              "</div>"
            ],
            "text/plain": [
              "    resultId  raceId  driverId  ...  fastestLapSpeed statusId  rebases\n",
              "0          1      18         1  ...          218.300        1      134\n",
              "1          2      18         2  ...          217.586        1      134\n",
              "2          3      18         3  ...          216.719        1      134\n",
              "3          4      18         4  ...          215.464        1      134\n",
              "4          5      18         5  ...          218.385        1      134\n",
              "5          6      18         6  ...          212.974       11      134\n",
              "6          7      18         7  ...          213.224        5      134\n",
              "7          8      18         8  ...          217.180        5      134\n",
              "8          9      18         9  ...          215.100        4      134\n",
              "9         10      18        10  ...          213.166        3      134\n",
              "10        11      18        11  ...          210.038        7      134\n",
              "11        12      18        12  ...          208.907        8      134\n",
              "12        13      18        13  ...          216.510        5      134\n",
              "13        14      18        14  ...          213.300        4      134\n",
              "14        15      18        15  ...          213.758       10      134\n",
              "15        16      18        16  ...          207.461        9      134\n",
              "16        17      18        17  ...               \\N        4      134\n",
              "17        18      18        18  ...               \\N        4      134\n",
              "18        19      18        19  ...               \\N        4      134\n",
              "19        20      18        20  ...               \\N        4      134\n",
              "20        21      18        21  ...               \\N        4      134\n",
              "21        22      18        22  ...          215.141        2      134\n",
              "22        23      19         8  ...          209.158        1      166\n",
              "23        24      19         9  ...          208.033        1      166\n",
              "24        25      19         5  ...          208.031        1      166\n",
              "25        26      19        15  ...          207.715        1      166\n",
              "26        27      19         1  ...          209.033        1      166\n",
              "27        28      19         2  ...          209.244        1      166\n",
              "28        29      19        17  ...          206.366        1      166\n",
              "29        30      19         4  ...          207.240        1      166\n",
              "30        31      19        14  ...          207.417        1      166\n",
              "31        32      19        18  ...          208.481        1      166\n",
              "32        33      19        12  ...          205.812        1      166\n",
              "33        34      19        21  ...          205.800       11      166\n",
              "34        35      19        22  ...          206.372       11      166\n",
              "\n",
              "[35 rows x 19 columns]"
            ]
          },
          "metadata": {
            "tags": []
          },
          "execution_count": 31
        }
      ]
    },
    {
      "cell_type": "code",
      "metadata": {
        "colab": {
          "base_uri": "https://localhost:8080/"
        },
        "id": "U8Jglw_U5efP",
        "outputId": "cc3110c3-926e-4986-c089-6be35fbaf5c9"
      },
      "source": [
        "f1_resultsdf.fillna(0)\n",
        "x = f1_resultsdf[['driverId', 'grid', 'points','rebases']].to_numpy()\n",
        "y = f1_resultsdf['raceId'].to_numpy()\n",
        "\n",
        "x_train, x_test, y_train, y_test = train_test_split(x,y,test_size=0.4)\n",
        "print(x_train)"
      ],
      "execution_count": 32,
      "outputs": [
        {
          "output_type": "stream",
          "text": [
            "[[197.  12.   0.   0.]\n",
            " [ 17.   5.  18. 277.]\n",
            " [347.  15.   0.   0.]\n",
            " ...\n",
            " [ 86.   0.   0.  92.]\n",
            " [289.   2.   9.   0.]\n",
            " [394.  21.   0.   0.]]\n"
          ],
          "name": "stdout"
        }
      ]
    },
    {
      "cell_type": "code",
      "metadata": {
        "id": "c5WC8Yk356y-",
        "colab": {
          "base_uri": "https://localhost:8080/"
        },
        "outputId": "0e526fe0-bd6f-4c83-8ff5-1ba9287cd72d"
      },
      "source": [
        "modelo_kmeans = KMeans(n_clusters = 12).fit(x_train)\n",
        "centroides = modelo_kmeans.cluster_centers_\n",
        "print(centroides)"
      ],
      "execution_count": 33,
      "outputs": [
        {
          "output_type": "stream",
          "text": [
            "[[ 2.78248922e+01  1.06438578e+01  2.99434267e+00  1.73100216e+02]\n",
            " [ 4.57571053e+02  1.09355263e+01  7.00184211e-01  8.95283847e-13]\n",
            " [ 7.36041475e+02  1.52580645e+01  7.00460829e-01 -2.20268248e-13]\n",
            " [ 1.62432004e+02  1.17044990e+01  7.79141104e-01  1.76022495e+00]\n",
            " [ 8.27039139e+02  1.20009785e+01  3.32387476e+00  1.28318982e+02]\n",
            " [ 6.06458075e+02  1.11863354e+01  1.16816770e+00  7.88702437e-13]\n",
            " [ 2.27006187e+02  1.08925759e+01  8.80202475e-01  1.23634436e-12]\n",
            " [ 3.39161148e+01  1.07842163e+01  2.65452539e+00  1.10889073e+02]\n",
            " [ 9.44276370e+01  1.13507768e+01  1.04394930e+00  1.57808667e-01]\n",
            " [ 2.93418803e+01  1.03726496e+01  4.48205128e+00  2.83336752e+02]\n",
            " [ 8.22069672e+02  1.33668033e+01  2.26229508e+00  2.58393443e+02]\n",
            " [ 3.38154696e+02  1.07209945e+01  1.15158840e+00  1.17950094e-12]]\n"
          ],
          "name": "stdout"
        }
      ]
    },
    {
      "cell_type": "markdown",
      "metadata": {
        "id": "gMRzJZrbTFQJ"
      },
      "source": [
        "### Recomendación"
      ]
    },
    {
      "cell_type": "code",
      "metadata": {
        "id": "rCGat4kksHb4"
      },
      "source": [
        "def recomiendameCarreras(listaDeCarreras,datosCarreras,carreraEjemplo,centroides):\n",
        "    #Vamos a buscar el centroide mas cercano (con MLUtilities ;) )\n",
        "    clasificacionDeseada = centroideCercano(carreraEjemplo, centroides)\n",
        "    \n",
        "    #Luego, vamos a clasificar todas las peliculas por centroides.\n",
        "    clasificaciones = clasificarPorCentroides(datosCarreras, centroides)\n",
        "    \n",
        "    #Finalmente, sacaremos los indices que hacen match entre clasificaciones.\n",
        "    indices = np.where(clasificaciones == clasificacionDeseada)[0]\n",
        "    \n",
        "    #Y regresamos la lista de peliculas.\n",
        "    return listaDeCarreras[indices]"
      ],
      "execution_count": 34,
      "outputs": []
    },
    {
      "cell_type": "code",
      "metadata": {
        "colab": {
          "base_uri": "https://localhost:8080/"
        },
        "id": "qnH21gEmsT1A",
        "outputId": "afd1beb1-a8e7-4145-e20c-c981dd933d32"
      },
      "source": [
        "# Races CSV\n",
        "f1_racedf = pd.read_csv(\"https://raw.githubusercontent.com/AreYouRuben/DS_Team24/main/Analisis_Datos_Python_Santander/f1_dataset/races.csv\")\n",
        "\n",
        "#Indice de carrera a evaluar\n",
        "indice_df = 26\n",
        "\n",
        "#Extrae la carrera que deseas del dataframe.\n",
        "carreraElegida = f1_resultsdf.iloc[indice_df]\n",
        "\n",
        "#Obten las características de la carrera que elegiste.\n",
        "caracteristicaCarrera = carreraElegida[['driverId', 'grid', 'points','rebases']].to_numpy()\n",
        "\n",
        "#Obten la lista de recomendaciones\n",
        "recomendaciones = recomiendameCarreras(f1_resultsdf['raceId'],x, caracteristicaCarrera, centroides)\n",
        "\n",
        "#E imprime lo que hallaste!\n",
        "carrera = f1_racedf[f1_racedf['raceId'] == carreraElegida['raceId']]\n",
        "#print(carrera[[\"name\"]])\n",
        "print(\"Porque viste \" + carrera[\"name\"].to_string())\n",
        "print(\"Te recomendamos este Top 5 de carreras...\")\n",
        "#print(set(recomendaciones))\n",
        "count = 0\n",
        "top = 5\n",
        "for elem in iter(set(recomendaciones)):\n",
        "    if count == top:\n",
        "        break\n",
        "    print(f1_racedf[f1_racedf['raceId'] == elem][\"name\"].to_string())\n",
        "    count = count + 1"
      ],
      "execution_count": 35,
      "outputs": [
        {
          "output_type": "stream",
          "text": [
            "Porque viste 18    Malaysian Grand Prix\n",
            "Te recomendamos este Top 5 de carreras...\n",
            "1011    Singapore Grand Prix\n",
            "1    Malaysian Grand Prix\n",
            "1013    Japanese Grand Prix\n",
            "3    Bahrain Grand Prix\n",
            "1014    Mexican Grand Prix\n"
          ],
          "name": "stdout"
        }
      ]
    }
  ]
}